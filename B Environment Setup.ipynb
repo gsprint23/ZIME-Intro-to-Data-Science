{
 "cells": [
  {
   "cell_type": "markdown",
   "metadata": {},
   "source": [
    "# Intro to Data Science\n",
    "\n",
    "[Gina Sprint](https://ginasprint.com/)\n",
    "\n",
    "# Environment Setup\n",
    "What are our learning objectives for this lesson?\n",
    "* Download and install Git\n",
    "* Download and install the Anaconda Python distribution\n",
    "* Run a Python program on their own computer\n",
    "    * Interactive mode\n",
    "    * Scripting mode\n",
    "\n",
    "Content used in this lesson is based upon information in the following sources:\n",
    "* None to report"
   ]
  },
  {
   "attachments": {},
   "cell_type": "markdown",
   "metadata": {},
   "source": [
    "## Download/Install Git\n",
    "* For Windows users: visit the [Git downloads page for Windows](https://git-scm.com/download/windows) and install Git for your PC\n",
    "* For Mac users: first try opening your terminal program (command key + spacebar, then type terminal to open the terminal program) and typing `git` and pressing enter. If Git is not installed, you will prompted to install the Xcode developer tools. Install these to install Git. For alternatives to install Git for Mac, visit the [Git downloads page for Mac](https://git-scm.com/download/mac)\n",
    "* For Linux users: visit the [Git downloads page for Linux](https://git-scm.com/download/linux) and install Git for your PC\n",
    "\n",
    "To check your git install was sucessful, open your command line and run the `git` command. You should see output describing how to use git. Something like:\n",
    "```\n",
    "usage: git [--version] [--help] [-C <path>] [-c <name>=<value>]\n",
    "           [--exec-path[=<path>]] [--html-path] [--man-path] [--info-path]\n",
    "           [-p | --paginate | -P | --no-pager] [--no-replace-objects] [--bare]\n",
    "           [--git-dir=<path>] [--work-tree=<path>] [--namespace=<name>]\n",
    "           [--super-prefix=<path>] [--config-env=<name>=<envvar>]\n",
    "           <command> [<args>]\n",
    "...\n",
    "```\n",
    "\n",
    "Note if you don't see this output: On Windows, you may need to add Git to your PATH environment variable on Windows: https://linuxhint.com/add-git-to-path-windows/ Try opening a new powershell and trying `git` again."
   ]
  },
  {
   "attachments": {},
   "cell_type": "markdown",
   "metadata": {},
   "source": [
    "## Download/Install Anaconda\n",
    "We will use the [Anaconda](https://www.anaconda.com/products/individual) Python 3 distribution. This is a free distribution of Python available for Windows, OS X, and Linux. You can download Anaconda3 [here](https://www.anaconda.com/products/individual) and view the installation instructions [here](https://docs.anaconda.com/anaconda/install/). Once the download is complete, run the installer. \n",
    "\n",
    "On a Mac machine, the graphical installer looks similar to this: \n",
    "\n",
    "<img src=\"https://raw.githubusercontent.com/GonzagaCPSC222/U0-Introduction/master/figures/anaconda_mac_installer.png\" width=\"500\">\n",
    "\n",
    "On a Windows machine, at the \"Advanced Options\" screen, make sure both check boxes are selected, as follows:\n",
    "\n",
    "<img src=\"https://raw.githubusercontent.com/gsprint23/aha/master/lessons/figures/anaconda_adv.png\" width=\"500\">\n",
    "\n",
    "At the \"Microsoft Visual Studio Code\" screen, install the Visual Studio Code editor (note that if you do not have an option to install VS Code, that is okay, you can install it for Windows, Mac, or Linux [here](https://code.visualstudio.com/download)).\n",
    "\n",
    "<img src=\"https://raw.githubusercontent.com/GonzagaCPSC222/U0-Introduction/master/figures/anaconda_install_vscode.png\" width=\"500\">\n",
    "\n",
    "You can uncheck the box to \"Learn more about Anaconda Cloud.\" We won't be using Anaconda Cloud in this class."
   ]
  },
  {
   "cell_type": "markdown",
   "metadata": {},
   "source": [
    "Test that your Python installation is complete and correct. To do this, open the [Anaconda Navigator](https://docs.continuum.io/anaconda/navigator.html) located in the Anaconda3 folder (on my Windows machine it is at C:\\ProgramData\\Microsoft\\Windows\\Start Menu\\Programs\\Anaconda3 (64-bit) and on my Mac it is at /Users/gsprint/anaconda3). You can also search your computer for \"Anaconda Navigator\" (on a Windows machine press the windows key and start typing, on a Mac its command key + space and start typing).\n",
    "![](https://raw.githubusercontent.com/gsprint23/aha/master/lessons/figures/anaconda_folder.png)\n",
    "\n",
    "Note: You may want to make desktop shortcuts for Anaconda Navigator, VS Code, and Jupyter Notebook.\n",
    "\n",
    "Anaconda Navigator should like this (note that Visual Studio Code has been installed):\n",
    "![](https://raw.githubusercontent.com/GonzagaCPSC222/U0-Introduction/master/figures/anaconda_navigator_dashboard.png)\n",
    "\n",
    "Try launching \"qtconsole\". Something like this program should pop up:\n",
    "\n",
    "<img src=\"https://raw.githubusercontent.com/GonzagaCPSC222/U0-Introduction/master/figures/qt_console.png\" width=\"500\">\n",
    "\n",
    "If it does, congrats! You successfully installed Python and Anaconda. You are ready to start developing Python code. You can try writing your first line of Python code if you want right now! In the open Jupyter QtConsole, type exactly the following:\n",
    "\n",
    "```\n",
    "print(\"Hello World!\")\n",
    "```\n",
    "\n",
    "And press enter. The text `Hello World!` will be displayed back."
   ]
  },
  {
   "attachments": {},
   "cell_type": "markdown",
   "metadata": {},
   "source": [
    "## Execute Python Code\n",
    "Python code can be executed in *interactive* mode and in *scripting* mode. In interactive mode, Python code is entered/executed in a command prompt/console/terminal. In scripting mode, Python code in a source file (e.g. .py) file is executed as a program. \n",
    "\n",
    "We are going to perform the following steps to re-write the previous `\"Hello World!\"` program in *interactive* mode and again in *scripting* mode using VS Code and the command line.\n",
    "\n",
    "### Interactive Python\n",
    "1. Open the command line and type `python` and press enter. Your command prompt should change to something like `>>>`. This means you are in interactive Python. Type `print(\"Hello World!\")` and press enter. You should see \"Hello World!\" echoed back out on the console. Congrats! You just wrote and executed your first line of Python code. We just executed this code in \"interactive\" mode.\n",
    "\n",
    "1. Let's explore some features of interactive Python. Type the following commands into the IPython shell and observe the output:\n",
    "    1. `help(print)`: You can type the name of any identifier between the parens of the `help()` command to learn more about the Python construct.\n",
    "    1. `pwd()`: Tells you the \"present working directory\" where Python is executing\n",
    "    1. `x = 5`: Declare a variable named `x` and assign it the value 5\n",
    "    1. `type(x)`: Returns the data type of the value stored in variable `x`. What is it?\n",
    "    1. `course_name = \"AHA\"`: Declare a variable named `course_name` and assigns it the string \"AHA\"\n",
    "    1. `type(course_name)`\n",
    "    1. `course_name.<tab>`: Type the variable name `course_name` and a dot. Then press tab. IPython will provide you with all of the available information and behaviors associated with this variable. We will learn much more about this information later in the course.\n",
    "    1. `course_name.upper()`: What does `upper()` do?\n",
    "    1. `dir()`: Lists the known objects (variables) in Python. Do you see your variable names?\n",
    "    \n",
    "### Scripting Python\n",
    "1. Open VS Code and create a new file.\n",
    "1. Type `print(\"Hello World!\")`\n",
    "1. Navigate to the menu bar. Select File -> Save As and select a folder to save your Python code files in. Name this file hello_world.py and save it in your newly made folder.\n",
    "1. Run the program! You can do this by pressing F5 on your keyboard or selecting Debug -> Start Debugging. The output of your code will be in the Terminal. Congrats! You just wrote and executed your first Python *script*.\n",
    "<img src=\"https://raw.githubusercontent.com/GonzagaCPSC222/U0-Introduction/master/figures/vscode_hello_world.png\">"
   ]
  }
 ],
 "metadata": {
  "anaconda-cloud": {},
  "kernelspec": {
   "display_name": "Python 3 (ipykernel)",
   "language": "python",
   "name": "python3"
  },
  "language_info": {
   "codemirror_mode": {
    "name": "ipython",
    "version": 3
   },
   "file_extension": ".py",
   "mimetype": "text/x-python",
   "name": "python",
   "nbconvert_exporter": "python",
   "pygments_lexer": "ipython3",
   "version": "3.9.7"
  }
 },
 "nbformat": 4,
 "nbformat_minor": 4
}

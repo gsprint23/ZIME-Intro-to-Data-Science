{
 "cells": [
  {
   "attachments": {},
   "cell_type": "markdown",
   "metadata": {},
   "source": [
    "# Intro to Data Science\n",
    "\n",
    "[Gina Sprint](https://ginasprint.com/)\n",
    "\n",
    "# Introduction\n",
    "What are our learning objectives for this lesson?\n",
    "* Gain an understanding of the course plan\n",
    "* Understand the general field of data science\n",
    "\n",
    "Content used in this lesson is based upon information in the following sources:\n",
    "* None to report"
   ]
  },
  {
   "attachments": {},
   "cell_type": "markdown",
   "metadata": {},
   "source": [
    "## Warm up Task(s)\n",
    "Welcome to class! I'm really glad to be here with you all!\n",
    "1. Go to our Moodle site\n",
    "    * You should have received an invite email to Moodle, please let me know if you need me to resend it\n",
    "    * Note: if you received two emails, please use the most recent one\n",
    "1. In DingTalk chat, please introduce yourself with your preferred name and something interesting about you 😀\n",
    "\n",
    "## Today\n",
    "1. Introductions\n",
    "1. Course overview and environment setup\n",
    "1. Command line\n",
    "1. 10 minute break\n",
    "1. Intro to Git/Github\n",
    "\n",
    "## TODO\n",
    "1. Follow instructions in the the [B Environment Setup](https://github.com/gsprint23/ZIME-Intro-to-Data-Science/blob/master/B%20Environment%20Setup.ipynb) notes to install Git and Python\n",
    "    * Should be able to run `git` at your command line before next class\n",
    "1. Work on Quiz 1 in Moodle"
   ]
  },
  {
   "cell_type": "markdown",
   "metadata": {},
   "source": [
    "## What is Data Science?\n",
    "Data science is the science of analyzing data to gain insight, draw conclusions, or make decisions about the data. \n",
    "\n",
    "What are examples of data in the real-world and how is that data being analyzed?\n",
    "* Medical data collected from electronic health records, physician/nurse notes, etc.\n",
    "    * Analyzed to determine health risk factors, onset of early disease, insurance billing, etc.\n",
    "* Time series data collected from sensors installed in the environment or worn on the body (wearables)\n",
    "    * Analyzed to detect physical activity, daily behavior, changes in behavior over time, etc.\n",
    "* Social media data collected from social networks, posting, news feeds, etc.\n",
    "    * Analyzed to suggest friends, deliver user-specific content, recommend products, target advertising, etc.\n",
    "* Financial data collected from banking transactions, trading, etc.\n",
    "    * Analyzed to project stock market trends, recommend certain investments, determine credit scores, etc.\n",
    "* Many others"
   ]
  },
  {
   "cell_type": "markdown",
   "metadata": {},
   "source": [
    "What do Data Scientists do? Data scientists spend a surprising amount of time preparing data for analysis. In fact, a survey was conducted found that cleaning big data is the most time-consuming and least enjoyable task data scientists do!\n",
    "<img src=\"https://thumbor.forbes.com/thumbor/960x0/https%3A%2F%2Fblogs-images.forbes.com%2Fgilpress%2Ffiles%2F2016%2F03%2FTime-1200x511.jpg\" width=\"700\">\n",
    "\n",
    "(image from [https://thumbor.forbes.com/thumbor/960x0/https%3A%2F%2Fblogs-images.forbes.com%2Fgilpress%2Ffiles%2F2016%2F03%2FTime-1200x511.jpg](https://thumbor.forbes.com/thumbor/960x0/https%3A%2F%2Fblogs-images.forbes.com%2Fgilpress%2Ffiles%2F2016%2F03%2FTime-1200x511.jpg))\n",
    "\n",
    "Some topics related to data science that we will cover in this class (at a high level) includes the following:\n",
    "* [Data representation/cleaning/munging/wrangling](https://en.wikipedia.org/wiki/Data_wrangling): Describes the overall process of manipulating unstructured and/or messy data into a structured and clean form.\n",
    "* [Data mining](https://en.wikipedia.org/wiki/Data_mining): The computational process of discovering patterns in large data sets involving methods at the intersection of artificial intelligence, machine learning, statistics, and database systems. The overall goal of the data mining process is to extract information from a data set and transform it into an understandable structure for further use.\n",
    "* [Machine learning](https://en.wikipedia.org/wiki/Machine_learning): Provides computers with the ability to learn without being explicitly programmed. Machine learning focuses on the development of computer programs that can change when exposed to new data."
   ]
  },
  {
   "attachments": {},
   "cell_type": "markdown",
   "metadata": {},
   "source": [
    "## Python\n",
    "In this class, we are going to learn and use the Python programming language. According to [IEEE Spectrum](https://spectrum.ieee.org/top-programming-languages-2022), Python is the top programming language (as of 2022) and according to [KDNuggets](https://www.kdnuggets.com/2022/02/data-science-programming-languages.html), Python is the top programming language for analytics, data mining, and data science (with SQL and R close by). \n",
    "\n",
    "### Why Use Programming for Data Science?\n",
    "* Faster than analyzing by hand (especially for large data)!\n",
    "* Reuse other data, same data different params/settings\n",
    "* Enables a form of “repeatability” (and ideally, transparency)\n",
    "    * Can repeat “experiment” and get the same result\n",
    "    * No “magic” steps\n",
    "* Still important, however, to write down steps (log)\n",
    "    * Ideally, someone should be able to take your data, program, and description of steps, rerun everything, and get the same results!\n",
    "\n",
    "### Why Use Python for Data Science?\n",
    "Advantages of learning Python include:  \n",
    "1. Easy to learn\n",
    "1. Free, open source\n",
    "1. Support for the life cycle of software (prototyping, development, testing, release, maintenance)\n",
    "1. Many available libraries, especially for data analytics:\n",
    "    1. [numpy](http://www.numpy.org/)\n",
    "    1. [scipy](https://www.scipy.org/)\n",
    "    1. [pandas](http://pandas.pydata.org/)\n",
    "    1. [Plotting libraries](https://wiki.python.org/moin/NumericAndScientific/Plotting), such as [matplotlib](http://matplotlib.org/) and [Plotly](https://plot.ly/)\n",
    "    1. [sci-kits](https://scikits.appspot.com/) (especially [sci-kit learn](http://scikit-learn.org/stable/) for machine learning)\n",
    "1. Many supported GUI backends\n",
    "1. LOTS of community support/development online\n",
    "1. Cross platform support\n",
    "    * Python is an interpreted language, which means it can run on any system with the Python interpreter installed; however, this is also a disadvantage in some ways, meaning Python code can be slow to run, compared with compiled languages like C"
   ]
  }
 ],
 "metadata": {
  "anaconda-cloud": {},
  "kernelspec": {
   "display_name": "Python 3 (ipykernel)",
   "language": "python",
   "name": "python3"
  },
  "language_info": {
   "codemirror_mode": {
    "name": "ipython",
    "version": 3
   },
   "file_extension": ".py",
   "mimetype": "text/x-python",
   "name": "python",
   "nbconvert_exporter": "python",
   "pygments_lexer": "ipython3",
   "version": "3.9.7"
  }
 },
 "nbformat": 4,
 "nbformat_minor": 4
}

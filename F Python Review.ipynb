{
 "cells": [
  {
   "cell_type": "markdown",
   "metadata": {},
   "source": [
    "# Intro to Data Science\n",
    "\n",
    "[Gina Sprint](https://ginasprint.com/)\n",
    "\n",
    "# Python Review\n",
    "\n",
    "What are our learning objectives for this lesson?\n",
    "* Understand syntax of the Python programming language\n",
    "* Implement basic programming constructs in Python\n",
    "* Work with commonly used built-in Python data structures\n",
    "    * Lists\n",
    "    * Tuples\n",
    "    * Dictionaries\n",
    "* Learn about object aliasing\n",
    "* Pass arguments into programs via command line arguments\n",
    "\n",
    "Content used in this lesson is based upon information in the following sources:\n",
    "* None to report"
   ]
  },
  {
   "attachments": {},
   "cell_type": "markdown",
   "metadata": {},
   "source": [
    "## Warm up Task(s)\n",
    "1. Create a folder called PythonBasicsFun with a main.py\n",
    "1. Prompt the user for a number, then print that number doubled\n",
    "\n",
    "## Today\n",
    "1. Python (variables, conditionals, loops, functions)\n",
    "1. Break\n",
    "1. More Python\n",
    "\n",
    "## TODO\n",
    "1. Work on project part 1: https://github.com/gsprint23/ZIME-Intro-to-Data-Science/blob/master/Project.ipynb\n",
    "1. Work on Quiz 3 in Moodle"
   ]
  },
  {
   "attachments": {},
   "cell_type": "markdown",
   "metadata": {},
   "source": [
    "## Warm up Task(s)\n",
    "Open our main.py from last class: https://github.com/gsprint23/ZIME-Intro-to-Data-Science/blob/master/PythonBasicsFun You'll see that I posted the 1D and 2D list practice problem solutions from last class' TODO in there too.\n",
    "1. Define a function called `add_one(table)` that accepts a 2D list and adds 1 to each element\n",
    "    1. Call this function passing in `matrix`. Is `matrix` modified by this function? Why or why not?\n",
    "1. Define a function called `clear_out(table)` that accepts a 2D list and set its to the empty list (e.g. `table = []`)\n",
    "    1. Call this function passing in `matrix`. Is `matrix` modified by this function? Why or why not?\n",
    "\n",
    "## Today\n",
    "1. Python (lists and files)\n",
    "1. Break\n",
    "1. More Python\n",
    "1. Start project part 2\n",
    "\n",
    "## TODO\n",
    "1. Work on Quiz 3 in Moodle\n",
    "1. Work on project part 2: https://github.com/gsprint23/ZIME-Intro-to-Data-Science/blob/master/Project.ipynb"
   ]
  },
  {
   "attachments": {},
   "cell_type": "markdown",
   "metadata": {},
   "source": [
    "### 1D List Practice Problem\n",
    "In PythonBasicsFun, write code that generates 20 random numbers between 1 and 10 inclusive and puts them in a 1D list. The program then does the following using the list:\n",
    "* Prints the numbers all one line, each number separated by a space\n",
    "* Sorts the list using a list method\n",
    "* Prints the largest and smallest number in the list\n",
    "    * Hint: can you take advantage of the current ordering of your list?\n",
    "* Determines the number of times a user-specified number is in the list \n",
    "* Removes all instances of a user-specified number in the list. If the number is not in the list print the message: \"Sorry, your number is not here!\"\n",
    "\n",
    "Note: for practice with functions, try solving this problem using functions :)\n",
    "\n",
    "### 2D List Practice Problem\n",
    "In PythonBasicsFun, write code that generates 50 random numbers between 1 and 10 inclusive and puts them in a 2D list that is 10x5 (e.g. 10 rows and 5 columns). The program then does the following using the list:\n",
    "* Prints the numbers in a nice grid format (like a table)\n",
    "* Prints the largest and smallest number in the list\n",
    "* Determines the number of times a user-specified number is in the list \n",
    "* Removes all instances of a user-specified number in the list. If the number is not in the list print the message: \"Sorry, your number is not here!\"\n",
    "\n",
    "Note: for practice with functions, try solving this problem using functions :)"
   ]
  },
  {
   "cell_type": "markdown",
   "metadata": {},
   "source": [
    "## Python Basics\n",
    "Python was created by Guido van Rossum in the late 1980s. It is an open source, general-purpose language. It is flexible and powerful, yet still simple enough to be quickly picked up by new programmers. Python is fairly high on the high-level programming languages spectrum, meaning its syntax and grammar is fairly close to pseudo-code.\n",
    "![](https://raw.githubusercontent.com/gsprint23/cpts215/master/lessons/figures/language_continuum.jpg)\n",
    "\n",
    "Python can be run on any computer architecture, so long as a Python interpreter is installed on the machine. This is similar to Java in the sense that as long as Java (more specifically, a Java Virtual Machine) is installed on your computer (you've seen the pesky Java update dialogs), you can run Java code written on any other architecture. It is convenient, cross-platform approach to application development. In contrast to *interpreted languages*, *compiled languages* are translated into specific computer architecture machine code (i.e. for a specific Intel processor instead of an AMD processor). Interpreted languages, such as Python and Java, tend to run slower than compiled languages, such as C and Fortran. \n",
    "\n",
    "### Python Language Elements\n",
    "Python programs contain instructions that specify what the computer is supposed to \"compute\".\n",
    "\n",
    "#### Comments"
   ]
  },
  {
   "cell_type": "code",
   "execution_count": 1,
   "metadata": {},
   "outputs": [],
   "source": [
    "# get radius from user"
   ]
  },
  {
   "cell_type": "markdown",
   "metadata": {},
   "source": [
    "The above instruction is an example of a **single line comment**. *Comments are ignored by the Python interpreter*. Single line comments are denoted by a `#` symbol; any code after the `#` symbol is simply text and is not going to be run by Python."
   ]
  },
  {
   "cell_type": "code",
   "execution_count": 2,
   "metadata": {},
   "outputs": [
    {
     "data": {
      "text/plain": [
       "'So is this!'"
      ]
     },
     "execution_count": 2,
     "metadata": {},
     "output_type": "execute_result"
    }
   ],
   "source": [
    "'''This is an example \n",
    "of a multi-line comment'''\n",
    "\n",
    "\"\"\"So is this!\"\"\""
   ]
  },
  {
   "cell_type": "markdown",
   "metadata": {},
   "source": [
    "Use comments liberally in your code! They help others read your code (including yourself, months later when it isn't so fresh in your mind). In this class, you will be required to comment your code by adhering to the CptS 215 [Coding Standard](http://nbviewer.jupyter.org/github/gsprint23/cpts215/blob/master/CptS215CodingStandard.ipynb).\n",
    "\n",
    "#### Standard Identifiers\n",
    "Represent names of built-in variables (data) and functions (operations) in Python, such as `print` and `input`. It is not recommended to redefine these identifiers.\n",
    "* `print(<text to display>)` displays text to the screen\n",
    "* `input()` reads input from the keyboard\n",
    "\n",
    "#### User-defined Identifiers\n",
    "Names memory cells used for computations (\"variables\"). We will also later be able to name our own algorithms (\"functions\").\n",
    "* Identifiers can only contain letters, numbers, and underscores\n",
    "* Cannot begin with digits\n",
    "* Should not redefine standard Python standard identifiers\n",
    "* Should choose meaningful variable names (i.e. `radius` to store the radius of a cone, versus `my_variable`)\n",
    "* Use underscores between words for readability (e.g. `cone_volume`)\n",
    "* Make your variable names sufficiently different so you don't get them confused\n",
    "\n",
    "Note: Python is case sensitive.\n",
    "\n",
    "#### Reserved Keywords\n",
    "Python has reserved several identifiers as keywords that have special meaning about the nature of your program. You cannot use reserved keywords as user-defined identifiers in your program. Examples of reserved keywords include `True`, `False`, `None`, `and`, `or`, `not`, `if`, `else`, `elif`, `in`, `is`, `pass`, `return`, `for`, `while`, etc. In the near future, you will learn about these keywords and what they do!\n",
    "\n",
    "### Variable Declarations\n",
    "Declaring a variable reserves memory space for a value. It also associates a name with a memory cell (user-defined identifier)."
   ]
  },
  {
   "cell_type": "code",
   "execution_count": 3,
   "metadata": {},
   "outputs": [],
   "source": [
    "radius = 0.0"
   ]
  },
  {
   "cell_type": "markdown",
   "metadata": {},
   "source": [
    "The above instruction declares a variable called `radius` and stores the value `0.0` in the memory location associated with `radius`. `radius` is an example of a user-defined identifier.\n",
    "\n",
    "### Data Types\n",
    "All variables have an associated data type. A **data type is a set of values and a set of operations on those values.** Examples of data types include:\n",
    "* Integer (numeric)\n",
    "    * Values: integer whole numbers e.g. 1, -10, 5000, etc.\n",
    "    * Operations: several, including + - * / // (integer division) % (mod) and comparisons > < <= >= == !=\n",
    "* Float (numeric)\n",
    "    * Values: real numbers (must include a decimal point) e.g. 3.14, -1000.0, etc.\n",
    "    * Operations: several, including + - * / and comparisons > < <= >= == !=\n",
    "* String (sequence of characters)\n",
    "    * Values: characters e.g. \"cpts215\", \"ABCD\", '123ABC', etc.\n",
    "    * Operations: several, including + (string concatenation, joins strings by linking them end-to-end), * (repetition, repeats strings), etc. We will learn more about string operations later in the course.\n",
    "    * *Note: You can use either double or single quotes to specify a string.*\n",
    "    * *Note: Even though some strings look like numbers (e.g. \"2\"), they are not numbers. For example: `\"5\" + \"7\"` returns the string \"57\" because \"5\" and \"7\" are strings, not integers.\n",
    "\n",
    "If you want to find out what data type a variable is, Python will tell you. Use the function `type(<variable name.)` to find out."
   ]
  },
  {
   "cell_type": "code",
   "execution_count": 4,
   "metadata": {},
   "outputs": [
    {
     "name": "stdout",
     "output_type": "stream",
     "text": [
      "<class 'int'>\n",
      "<class 'float'>\n",
      "<class 'str'>\n"
     ]
    }
   ],
   "source": [
    "x = 77.0\n",
    "\n",
    "print(type(5))\n",
    "print(type(x))\n",
    "print(type('this is a string'))"
   ]
  },
  {
   "cell_type": "markdown",
   "metadata": {},
   "source": [
    "### Executable Statements\n",
    "Do the work of the algorithm by transforming inputs into outputs. For example, consider the volume of the cone example:"
   ]
  },
  {
   "cell_type": "code",
   "execution_count": 5,
   "metadata": {},
   "outputs": [],
   "source": [
    "radius = 2.0\n",
    "height = 3.5\n",
    "volume = 1 / 3 * 3.14 * radius ** 2 * height"
   ]
  },
  {
   "cell_type": "markdown",
   "metadata": {},
   "source": [
    "When the code statement above is executed by Python (the program is running), Python *evaluates* the expression on the right hand side of the assignment operator (=), and assigns the result to the variable `volume`. \n",
    "\n",
    "Python evaluates arithmetic expressions according to the same order of operation precedence you are familiar with (think PEMDAS: **P**arenthesis, **E**xponents, **M**ultiplication, **D**ivision, **A**ddition, **S**ubtraction), plus a few more operators. \n",
    "\n",
    "Check out this [Python precedence table](https://study.com/cimages/multimages/16/precedence_table.png) to learn more.\n",
    "\n",
    "#### Assignment Statements\n",
    "Store a computational result into a variable\n",
    "* The = operator does the assignment\n",
    "* The *, -, +, /, // operators perform the computation"
   ]
  },
  {
   "cell_type": "markdown",
   "metadata": {},
   "source": [
    "The assignment operator '=' in programing is not the same as = in math\n",
    "* Math: y = x means y is equivalent to x\n",
    "* Programming: y = x means \"y is assigned x\"\n",
    " * = is an operator, not a relationship\n",
    " * Don't read it as \"y equals x\" \n",
    " * **Read it as \"y gets x\" or \"y is assigned to x\"** \n",
    "* Example: x = x + 1\n",
    "![](https://raw.githubusercontent.com/GonzagaCPSC222/U2-Python-Basics/master/figures/assignment_example.png)\n",
    "Clearly not mathematically \"equal\"\n",
    "\n",
    "We can also assign the value of one variable to another:"
   ]
  },
  {
   "cell_type": "code",
   "execution_count": 6,
   "metadata": {},
   "outputs": [],
   "source": [
    "x = 5 # declare a new variable, x, and assign it the integer 5\n",
    "y = x # declare a new variable, y, and assign it the value of x (which is 5)\n",
    "y = -x # compute the negation of x (-5) and assign it to y"
   ]
  },
  {
   "cell_type": "markdown",
   "metadata": {},
   "source": [
    "#### Shorthand Assignment Operators\n",
    "Code such as, `x = x + 1` is quite common, in fact, it is so common that Python has a shorthand operator (+=) to shorten this code: `x += 1`. There are other shorthand operators for other arithmetic operators too:"
   ]
  },
  {
   "cell_type": "code",
   "execution_count": 7,
   "metadata": {},
   "outputs": [
    {
     "name": "stdout",
     "output_type": "stream",
     "text": [
      "0\n",
      "1\n",
      "4\n",
      "1\n",
      "5\n"
     ]
    }
   ],
   "source": [
    "x = 0\n",
    "print(x)\n",
    "x = x + 1\n",
    "print(x)\n",
    "x += 3\n",
    "print(x)\n",
    "x -= 3\n",
    "print(x)\n",
    "x *= 5\n",
    "print(x)"
   ]
  },
  {
   "cell_type": "markdown",
   "metadata": {},
   "source": [
    "#### Input/Output Statements\n",
    "It is extremely useful to obtain input data interactively from the user, and to display output results to the user\n",
    "\n",
    "Python offers several *functions* that perform input and output operations.\n",
    "\n",
    "Begin Digression: Functions\n",
    "\n",
    "A function is a set of statements that perform a task.\n",
    "A function performs the task, hiding from you the details of how it performs the task (they're irrelevant). We'll study functions in depth!\n",
    "\n",
    "End Digression\n",
    "\n",
    "##### Output\n",
    "The [`print()`](https://docs.python.org/3/library/functions.html#print) function is used to display text output of the program to the user, via the console. We have already seen the `print()` function in action:"
   ]
  },
  {
   "cell_type": "code",
   "execution_count": 8,
   "metadata": {},
   "outputs": [
    {
     "name": "stdout",
     "output_type": "stream",
     "text": [
      "The volume of a cone with radius 2.00 and height 3.50 is 14.65\n"
     ]
    }
   ],
   "source": [
    "print(\"The volume of a cone with radius %.2f and height %.2f is %.2f\" %(radius, height, volume))"
   ]
  },
  {
   "cell_type": "markdown",
   "metadata": {},
   "source": [
    "The text in red and surrounded by quotes is called a *string*, which is a sequence of characters. This is what will be displayed to the screen. \n",
    "\n",
    "The `%.2f` is called a *placeholder* for a floating point number (i.e. the f) with 2 decimal places (i.e. the .2). `%d` is used as placeholder for integers and `%s` is used as a placeholder for strings. \n",
    "\n",
    "The variable names at the end of the statement in parenthesis are the list of values corresponding to the placeholder (order matters!). The value of `radius` will be inserted at the first placeholder, the value of `height` for the second, and the value of `volume` for the third. Do you see that order matters?\n",
    "\n",
    "Note: Adding `\"\\n\"` to a string will print a newline character, a non-printable character that starts the cursor on a new line. This can be useful if you want to add extra space between text without writing extra `print()` statements."
   ]
  },
  {
   "cell_type": "code",
   "execution_count": 9,
   "metadata": {},
   "outputs": [
    {
     "name": "stdout",
     "output_type": "stream",
     "text": [
      "Standard spacing\n",
      "Adding extra space with the newline character\n",
      "\n",
      "**Next line**\n"
     ]
    }
   ],
   "source": [
    "print(\"Standard spacing\")\n",
    "print(\"Adding extra space with the newline character\\n\")\n",
    "print(\"**Next line**\")"
   ]
  },
  {
   "cell_type": "markdown",
   "metadata": {},
   "source": [
    "##### Input\n",
    "The [`input()`](https://docs.python.org/3/library/functions.html#input) function is used to collect input from the user of our programs via the keyboard. We have already seen the `input()` function in action:"
   ]
  },
  {
   "cell_type": "code",
   "execution_count": 10,
   "metadata": {},
   "outputs": [
    {
     "name": "stdout",
     "output_type": "stream",
     "text": [
      " 5.0\n"
     ]
    }
   ],
   "source": [
    "radius = float(input())"
   ]
  },
  {
   "cell_type": "markdown",
   "metadata": {},
   "source": [
    "This statement forces the program to pause until the user enters a value from the keyboard and hits the return key. `input()` returns a string representation of the text entered by the user (recall a string is a sequence of characters). Since we want to assign a floating point number to the variable `radius` for use in arithmetic computation later, we *type cast* the string entered by the user into a value of type `float`.\n",
    "\n",
    "Notes on input/output:\n",
    "* `input()` should always be used in conjunction with a `print()` statement that displays a prompt, so that the user knows that an input value is expected.\n",
    "* You can actually combine the prompt and the read input statements in one line. Simply place a string inside of the parentheses for `input()`: `radius = float(input(\"Please enter the radius\"))`. In this case, the inner-most function (`input()`) is executed first. Once the user has pressed enter and the value is read in, the value is converted to a float by the type cast.\n",
    "\n",
    "### Getting `help()`\n",
    "If you want more information about how to use a function, such as `print()`, ask Python! Type `help(<identifier name>)` to get more information about a variable, data type, function, etc. "
   ]
  },
  {
   "cell_type": "code",
   "execution_count": 11,
   "metadata": {},
   "outputs": [
    {
     "name": "stdout",
     "output_type": "stream",
     "text": [
      "Help on built-in function print in module builtins:\n",
      "\n",
      "print(...)\n",
      "    print(value, ..., sep=' ', end='\\n', file=sys.stdout, flush=False)\n",
      "    \n",
      "    Prints the values to a stream, or to sys.stdout by default.\n",
      "    Optional keyword arguments:\n",
      "    file:  a file-like object (stream); defaults to the current sys.stdout.\n",
      "    sep:   string inserted between values, default a space.\n",
      "    end:   string appended after the last value, default a newline.\n",
      "    flush: whether to forcibly flush the stream.\n",
      "\n"
     ]
    }
   ],
   "source": [
    "help(print)"
   ]
  },
  {
   "cell_type": "markdown",
   "metadata": {},
   "source": [
    "## Arithmetic Expressions\n",
    "Form: `operand1 operator operand2`\n",
    "* i.e. `x + y`\n",
    "\n",
    "Note: the type of result dependent on operand types\n",
    "\n",
    "### Arithmetic Operators in Python\n",
    "|Operator|Representation|Example|\n",
    "|----------|-----|-----|\n",
    "|+|Addition|10 + 5 = 15|\n",
    "|||1.55 + 13.3 = 14.85|\n",
    "|||3 + 100.7 = 103.7|\n",
    "|-|Subtraction|10 - 5 = 5|\n",
    "|||5.0 - 10.0 = -5.0|\n",
    "|||10 - 5.0 = 5.0|\n",
    "|\\*|Multiplication|1 * 5 = 5|\n",
    "|||1.000 * 10.0 = 10.0|\n",
    "|||5 * 5.0 = 25.0|\n",
    "|/|Floating Point Division|2 / 3 = 0.66|\n",
    "|||10.0 / 4.0 = 2.5|\n",
    "|||10 / 3.0 = 3.33|\n",
    "|//|Integer Division|2 // 3 = 0|\n",
    "|||10.0 // 4.0 = 2.0|\n",
    "|||10 // 3.0 = 3.0|\n",
    "|%|Modulus (AKA Remainder)|5 % 2 = 1|\n",
    "|||2 % 5 = 2|\n",
    "|||6 % 0 = undefined|\n",
    "|||6.0 % 3 = 0.0|\n",
    "|\\*\\*|Exponentiation|2 \\*\\* 3 = 8|\n",
    "|||2 \\*\\* 3 \\*\\* 2 = 512|\n",
    "|||4 \\*\\* (2 / 4) = 2.0|\n",
    "\n",
    "Note: The result of a modulus operation is the same as the remainder from integer division. Remember long division?\n",
    "![](https://raw.githubusercontent.com/gsprint23/cpts215/master/lessons/figures/long_division.gif)\n",
    "(Image from https://dj1hlxw0wr920.cloudfront.net/userfiles/wyzfiles/b410fcc6-7a7b-45a0-81b9-354423866db9.gif)\n",
    "\n",
    "In the above example, 128 // 5 is 25 and 128 % 5 is 3 (the remainder).\n",
    "\n",
    "Note: Exponentiation groups from right to left."
   ]
  },
  {
   "cell_type": "code",
   "execution_count": 12,
   "metadata": {},
   "outputs": [
    {
     "name": "stdout",
     "output_type": "stream",
     "text": [
      "512\n",
      "4.0\n",
      "2.0\n"
     ]
    }
   ],
   "source": [
    "print(2 ** 3 ** 2) # move from right to left for exponentiation\n",
    "print(4 ** 2 / 4) # exponentiation has higher precedence than division\n",
    "print(4 ** (2 / 4)) # square root"
   ]
  },
  {
   "cell_type": "markdown",
   "metadata": {},
   "source": [
    "## Changing Type\n",
    "We have already seen type conversions to change a value of certain a data type into another data type\n",
    "\n",
    "Two kinds of type conversions (also called casts) exist:\n",
    "1. Implicit\n",
    "1. Explicit\n",
    "\n",
    "Implicit type conversion example:"
   ]
  },
  {
   "cell_type": "code",
   "execution_count": 13,
   "metadata": {},
   "outputs": [
    {
     "name": "stdout",
     "output_type": "stream",
     "text": [
      "12 <class 'int'>\n"
     ]
    }
   ],
   "source": [
    "num1 = 12 # int\n",
    "num2 = 0.0 # float\n",
    "num2 = num1 # num2 is now an int\n",
    "print(num2, type(num2))"
   ]
  },
  {
   "cell_type": "markdown",
   "metadata": {},
   "source": [
    "Explicit type conversion example:"
   ]
  },
  {
   "cell_type": "code",
   "execution_count": 14,
   "metadata": {},
   "outputs": [
    {
     "name": "stdout",
     "output_type": "stream",
     "text": [
      "1 <class 'int'>\n"
     ]
    }
   ],
   "source": [
    "num1 = 1.7 # float\n",
    "num1 = int(num1) # 1.7 explicitly casted to type int, 1\n",
    "print(num1, type(num1))"
   ]
  },
  {
   "cell_type": "markdown",
   "metadata": {},
   "source": [
    "Note: `int()` truncates the fractional part of a floating point number. If you want to round the float instead, use `round()`. `round()` allows you to round a float to as many decimal places as you like: `round(<float>, n)` where `n` = number of decimal places. If you omit `n`, then `round(<float>)` returns a rounded integer:"
   ]
  },
  {
   "cell_type": "code",
   "execution_count": 15,
   "metadata": {},
   "outputs": [
    {
     "name": "stdout",
     "output_type": "stream",
     "text": [
      "5\n",
      "6\n",
      "5.9\n"
     ]
    }
   ],
   "source": [
    "x = 5.87\n",
    "print(int(x)) # truncates\n",
    "print(round(x)) # rounds to nearest integer\n",
    "print(round(x, 1)) # rounds to one decimal place"
   ]
  },
  {
   "cell_type": "markdown",
   "metadata": {},
   "source": [
    "## Formatting Numbers\n",
    "Python defines \"default\" output style for each data type\n",
    "* No leading blanks for `int` and `float`\n",
    "* `float` displayed with digits to right of decimal point\n",
    "\n",
    "You can override these defaults by specifying custom format strings to `print()` function. For float output, format string is of form `%n.mf`, where `n` is total width (number of columns) of formatted number, and `m` is the number of digits to the right of decimal point to display. It is possible to omit `n`. In that case, no leading spaces are printed. `m` can still specify the number of decimal places (e.g., `%.2f`).\n"
   ]
  },
  {
   "cell_type": "code",
   "execution_count": 16,
   "metadata": {},
   "outputs": [
    {
     "name": "stdout",
     "output_type": "stream",
     "text": [
      "x is  3. y is  2.2.\n"
     ]
    }
   ],
   "source": [
    "x = 3\n",
    "y = 2.17\n",
    "# outputs 2 spaces before the 3 and 2 spaces before the 2.2\n",
    "print(\"x is%3d. y is%5.1f.\" %(x, y))"
   ]
  },
  {
   "cell_type": "markdown",
   "metadata": {},
   "source": [
    "## Python Modules\n",
    "A *module* is a file that contains a collection of related variables and functions. Python provides several modules for us programmers to use in our programs. In order to use the variables and functions within a module, we have to let Python know we want to use the module with an `import <name of module>` statement. "
   ]
  },
  {
   "cell_type": "code",
   "execution_count": 17,
   "metadata": {},
   "outputs": [],
   "source": [
    "import math # math is a module containing... math functions!"
   ]
  },
  {
   "cell_type": "markdown",
   "metadata": {},
   "source": [
    "To access one of the variables or functions in a module, you type the module name (somewhere in the code *after* you import the module, remember Python executes code from top to bottom), followed by a dot, and then the name of the variable or function. For example, we can access an approximation of the mathematical constant `pi` ($\\pi$) in the `math` module:"
   ]
  },
  {
   "cell_type": "code",
   "execution_count": 18,
   "metadata": {},
   "outputs": [
    {
     "name": "stdout",
     "output_type": "stream",
     "text": [
      "3.141592653589793\n"
     ]
    }
   ],
   "source": [
    "print(math.pi)"
   ]
  },
  {
   "cell_type": "markdown",
   "metadata": {},
   "source": [
    "As another example, to access the square root function of the `math` module, use `math.sqrt()`:"
   ]
  },
  {
   "cell_type": "code",
   "execution_count": 19,
   "metadata": {},
   "outputs": [
    {
     "name": "stdout",
     "output_type": "stream",
     "text": [
      "Help on built-in function sqrt in module math:\n",
      "\n",
      "sqrt(x, /)\n",
      "    Return the square root of x.\n",
      "\n",
      "None\n",
      "2.0\n"
     ]
    }
   ],
   "source": [
    "# don't forget the help() command to learn more about a function\n",
    "print(help(math.sqrt))\n",
    "\n",
    "print(math.sqrt(4))"
   ]
  },
  {
   "cell_type": "markdown",
   "metadata": {},
   "source": [
    "## Math Functions\n",
    "The Python math module defines numerous useful mathematical functions. This library is an excellent example of the power of functions: commonly-used mathematical operations are packaged up in functions that can be re-used over and over. We don't have to define these functions or know how they work, we can simply call the functions and use the return value(s). Examples of math functions available for our use include:\n",
    "* `fabs()` for absolute values\n",
    "* `ceil()` for computing the ceiling of a number\n",
    "* `floor()` for computing the floor of a number\n",
    "* `cos()` for cosine function\n",
    "* `sin()` for sine function\n",
    "* `tan()` for tangent function\n",
    "* `pow()` for raising a number to its power\n",
    "* `log()` for logarithms (see also `log2()` and `log10()`\n",
    "* `sqrt()` for computing square roots\n",
    "\n",
    "Note: trig functions expect arguments in radians, not degrees. To convert degrees to radians, multiply by (`math.pi` / 180) or use the `radians()` function in the `math` module.\n",
    "\n",
    "You can find out all the functions available within a module by importing the module, typing the module name and a dot, then pressing tab. This \"auto-complete\" feature is super helpful when learning a new library or when you can't remember the name of a function."
   ]
  },
  {
   "cell_type": "code",
   "execution_count": 20,
   "metadata": {},
   "outputs": [
    {
     "name": "stdout",
     "output_type": "stream",
     "text": [
      "Absolute value of -5: 5\n",
      "45 degrees in radians is 0.79\n",
      "The sine of 45 degrees is 0.71\n"
     ]
    }
   ],
   "source": [
    "x = -5\n",
    "print(\"Absolute value of %d: %d\" %(x, math.fabs(x)))\n",
    "\n",
    "degrees = 45\n",
    "rads = degrees * (math.pi / 180.0)\n",
    "print(\"%d degrees in radians is %.2f\" %(degrees, rads))\n",
    "print(\"The sine of %d degrees is %.2f\" %(degrees, math.sin(rads)))"
   ]
  },
  {
   "cell_type": "markdown",
   "metadata": {},
   "source": [
    "### Defining a Function\n",
    "A *function definition* specifies the name of the function and the statements to be executed when the function is \"called\". We call a program by its name when we want to run it. A function definition follows the general template:\n",
    "```\n",
    "def <function_name>(input parameters)\n",
    "    '''\n",
    "    docstring\n",
    "    '''\n",
    "    executable statements\n",
    "    ...\n",
    "    return <output parameters>\n",
    "```\n",
    "There are several aspects of a function to note:\n",
    "* `def` is a keyword that let's Python know you are about to declare a function\n",
    "* The function name should follow similar naming conventions and style guidelines as function names. Note that function names are user-defined identifiers and should not redefine standard-identifiers (e.g. built-in functions) or previously declared user-identifiers (e.g. your own variables you've already declared).\n",
    "* The input parameters represent data coming in to your function. Don't forget the colon after the last paren.\n",
    "* Together, `def`, function name, and input parameters form the *function header*\n",
    "* The remaining portion of the function is called the *function body*. **All statements of the function body should be indented 4 spaces**. Indentation is how Python *groups* the code you've written with the function header to collectively form the *function definition*.\n",
    "* A multi-line comment, called a docstring, immediately follows the function header. This is where you explain what the function does, what inputs it expects, what outputs it produces, what assumptions the function makes, etc. When you type `help(<function_name>)`, the text in the docstring is what shows up (cool!).\n",
    "* Following the docstring are one or more executable statements.\n",
    "* `return()` statements specify the output parameters (results) of your function. Although you can have multiple return statements, in this class we will typically only have one (good style usually dictates only having one return statement per function anyways).\n",
    "\n",
    "## Example Revisited: Enter Functions\n",
    "Let's write a function called `get_grade_point()`:"
   ]
  },
  {
   "cell_type": "code",
   "execution_count": 21,
   "metadata": {},
   "outputs": [
    {
     "name": "stdout",
     "output_type": "stream",
     "text": [
      "Help on function get_grade_point in module __main__:\n",
      "\n",
      "get_grade_point(course_name)\n",
      "    docstring for get_grade_point()\n",
      "    \n",
      "    Prompts the user for a grade point based on a course.\n",
      "\n",
      "None\n",
      "Please enter the gpa for computer science: \n"
     ]
    },
    {
     "name": "stdout",
     "output_type": "stream",
     "text": [
      " 3.5\n"
     ]
    },
    {
     "name": "stdout",
     "output_type": "stream",
     "text": [
      "3.5\n"
     ]
    }
   ],
   "source": [
    "def get_grade_point(course_name):\n",
    "    '''\n",
    "    docstring for get_grade_point()\n",
    "    \n",
    "    Prompts the user for a grade point based on a course.\n",
    "    '''\n",
    "    print(\"Please enter the gpa for %s: \" %(course_name))\n",
    "    gpa = float(input())\n",
    "    return gpa\n",
    "\n",
    "print(help(get_grade_point))\n",
    "gpa1 = get_grade_point(\"computer science\")\n",
    "print(gpa1)"
   ]
  },
  {
   "cell_type": "markdown",
   "metadata": {},
   "source": [
    "## Body-less Functions\n",
    "You can define a function without adding a body by simply placing the reserved keyword `pass` in the body. This can be useful when you want to test your program one function at a time or when you want to organize your program without actually writing the functions (or as a placeholder if someone else is writing the function). Example:"
   ]
  },
  {
   "cell_type": "code",
   "execution_count": 22,
   "metadata": {},
   "outputs": [],
   "source": [
    "def quadratic_root_finder(a, b, c):\n",
    "    '''\n",
    "    Applies the quadratic equation to find the roots of\n",
    "    a quadratic function specified by the formula ax^2 + bx + c = 0\n",
    "    \n",
    "    To efficiently be implemented by someone else!\n",
    "    '''\n",
    "    pass"
   ]
  },
  {
   "cell_type": "markdown",
   "metadata": {},
   "source": [
    "## The `if` Statement\n",
    "The if statement supports conditional execution in Python:\n",
    "```\n",
    "if <test>:\n",
    "    <body>\n",
    "```\n",
    "\n",
    "`<test>` must be an expression that can be evaluated to either `True` or `False` (non-zero or zero), i.e. `<test>` is a **Boolean condition**\n",
    "`<body>` is one or more Python statements that are **indented** 4 spaces (or one tab, depending on your text editor)"
   ]
  },
  {
   "cell_type": "code",
   "execution_count": 23,
   "metadata": {},
   "outputs": [
    {
     "name": "stdout",
     "output_type": "stream",
     "text": [
      "x is 5!!\n"
     ]
    }
   ],
   "source": [
    "x = 5\n",
    "\n",
    "if x == 5:\n",
    "    print(\"x is 5!!\")\n",
    "    \n",
    "if x == 7:\n",
    "    print(\"x is 7!!\")"
   ]
  },
  {
   "cell_type": "markdown",
   "metadata": {},
   "source": [
    "Python also defines an `if`-`else` statement:\n",
    "```\n",
    "if <test>:\n",
    "    <body-if-test-is-true>\n",
    "else:\n",
    "    <body-if-test-is-false>\n",
    "```\n",
    "\n",
    "**Only one of the two `<body>` blocks can be executed each time through this code**. In other words, they are \"mutually exclusive\".\n",
    "\n",
    "Note: the `else` has no `<test>` condition. The `else` body executes when the complement of `<test>` is True (i.e. `<test>` is False)."
   ]
  },
  {
   "cell_type": "code",
   "execution_count": 24,
   "metadata": {},
   "outputs": [
    {
     "name": "stdout",
     "output_type": "stream",
     "text": [
      "Brrrrr...\n"
     ]
    }
   ],
   "source": [
    "temperature = 10\n",
    "\n",
    "if temperature > 32:\n",
    "    print(\"It is warm out!\")\n",
    "else: # temperature <= 32\n",
    "    print(\"Brrrrr...\")"
   ]
  },
  {
   "cell_type": "markdown",
   "metadata": {},
   "source": [
    "## Nested `if` Statements\n",
    "When a player's guess is not the number to guess (BC1 is False), we could give the hint in the body of the `else`. This would make sense because we only want to give a hint with BC1 is false, that is `players_guess != num_to_guess`. To do this, we can *nest* BC2 and BC3 in the `else` *body* of BC1 by indenting:"
   ]
  },
  {
   "cell_type": "code",
   "execution_count": 25,
   "metadata": {},
   "outputs": [
    {
     "name": "stdout",
     "output_type": "stream",
     "text": [
      "Please enter a number between 1 and 10 inclusive\n"
     ]
    },
    {
     "name": "stdout",
     "output_type": "stream",
     "text": [
      " 3\n"
     ]
    },
    {
     "name": "stdout",
     "output_type": "stream",
     "text": [
      "Unfortunately, you guessed the number incorrectly; however, I will give you a hint\n",
      "Your guess was too low\n"
     ]
    }
   ],
   "source": [
    "num_to_guess = 4\n",
    "players_guess = 0\n",
    "\n",
    "print(\"Please enter a number between 1 and 10 inclusive\")\n",
    "players_guess = int(input())\n",
    "\n",
    "if players_guess == num_to_guess: # BC 1\n",
    "    print(\"Congrats, you guessed the number correctly\")\n",
    "else: # players_guess != num_to_guess:\n",
    "    print(\"Unfortunately, you guessed the number incorrectly; however, I will give you a hint\")\n",
    "    if players_guess > num_to_guess: # BC 2\n",
    "        print(\"Your guess was too high\")\n",
    "    # this fixes the boundary case of == num_to_guess that we had previously\n",
    "    else: # players_Guess <= num_to_guess\n",
    "        print(\"Your guess was too low\")"
   ]
  },
  {
   "cell_type": "markdown",
   "metadata": {},
   "source": [
    "You can nest `if` statements as many times as you like; however, try to keep your code readable! Also, try to collapse your boolean conditions when appropriate. For example:"
   ]
  },
  {
   "cell_type": "code",
   "execution_count": 26,
   "metadata": {},
   "outputs": [
    {
     "name": "stdout",
     "output_type": "stream",
     "text": [
      "Please enter a number between 1 and 10 inclusive\n"
     ]
    },
    {
     "name": "stdout",
     "output_type": "stream",
     "text": [
      " 6\n"
     ]
    },
    {
     "name": "stdout",
     "output_type": "stream",
     "text": [
      "You are wrong but you get to try again\n",
      "You are wrong but you get to try again\n"
     ]
    }
   ],
   "source": [
    "num_guesses = 3\n",
    "\n",
    "print(\"Please enter a number between 1 and 10 inclusive\")\n",
    "players_guess = int(input())\n",
    "\n",
    "if players_guess != num_to_guess:\n",
    "    if num_guesses > 0:\n",
    "        print(\"You are wrong but you get to try again\")\n",
    "        \n",
    "# the above nested if can collapse into a compound condition\n",
    "if players_guess != num_to_guess and num_guesses > 0:\n",
    "    print(\"You are wrong but you get to try again\")"
   ]
  },
  {
   "cell_type": "markdown",
   "metadata": {},
   "source": [
    "## Multiple-Alternative `if` Statements\n",
    "Sometimes we want to have multiple boolean conditions in the same block of mutually exclusive `if` statements. We can do this with *multiple-alternative if statements* and the `elif` keyword. `elif` stands for `else-if`. Think of `elif` like an `else` with a Boolean condition to test.\n",
    "\n",
    "Consider yet another rewrite of the guessing game code:"
   ]
  },
  {
   "cell_type": "code",
   "execution_count": 27,
   "metadata": {},
   "outputs": [
    {
     "name": "stdout",
     "output_type": "stream",
     "text": [
      "Please enter a number between 1 and 10 inclusive\n"
     ]
    },
    {
     "name": "stdout",
     "output_type": "stream",
     "text": [
      " 8\n"
     ]
    },
    {
     "name": "stdout",
     "output_type": "stream",
     "text": [
      "Your guess was too high\n"
     ]
    }
   ],
   "source": [
    "num_to_guess = 4\n",
    "players_guess = 0\n",
    "\n",
    "print(\"Please enter a number between 1 and 10 inclusive\")\n",
    "players_guess = int(input())\n",
    "\n",
    "# a guess is either equal to, greater than, or less than \n",
    "if players_guess == num_to_guess: # BC 1\n",
    "    print(\"Congrats, you guessed the number correctly\")\n",
    "elif players_guess > num_to_guess: # BC 2\n",
    "    print(\"Your guess was too high\")\n",
    "else: # players_guess < num_to_guess\n",
    "    print(\"Your guess was too low\")"
   ]
  },
  {
   "cell_type": "markdown",
   "metadata": {},
   "source": [
    "## The `while` Loop\n",
    "The `while` loop is of the following general form:\n",
    "\n",
    "```\n",
    "while <test>:\n",
    "    <body>\n",
    "```\n",
    "\n",
    "Where `<test>` is a Boolean condition and **`<body>` contains indented code that progresses towards the Boolean condition testing `False`** (a way to exit the loop).\n",
    "* `<test>` is evaluated at the beginning of the loop\n",
    "    * if `<test>` is `True`, `<body>` will be executed.\n",
    "    * if `<test>` is `False`, the first line of code *after* the indented `<body>` is executed.\n",
    "* After the last statement in `<body>` is executed, control is shifted back to the beginning of the loop and `<test>` is re-evaluated.\n",
    "* Progress towards the Boolean condition becoming `False` must be made in `<body>` Otherwise, we will have an infinite loop!\n",
    "\n",
    "![](http://www.tutorialspoint.com/python/images/python_while_loop.jpg)\n",
    "(Image from [http://www.tutorialspoint.com/python/images/python_while_loop.jpg](http://www.tutorialspoint.com/python/images/python_while_loop.jpg))\n",
    "\n",
    "Let's look at an example. Write a program to print `num_stars` number of stars:"
   ]
  },
  {
   "cell_type": "code",
   "execution_count": 28,
   "metadata": {},
   "outputs": [
    {
     "name": "stdout",
     "output_type": "stream",
     "text": [
      "**********\n",
      "\n"
     ]
    }
   ],
   "source": [
    "# initialize a loop control variable\n",
    "num_stars = 10\n",
    "\n",
    "while num_stars > 0: # boolean condition\n",
    "    # body of while loop. These indented statements will be repeated when the boolean condition is True\n",
    "    print(\"*\", end=\"\")\n",
    "    num_stars -= 1 # progress towards boolean condition being False\n",
    "\n",
    "# this is the first line of code to be executed once the boolean condition is False\n",
    "print(\"\\n\")"
   ]
  },
  {
   "cell_type": "markdown",
   "metadata": {},
   "source": [
    "<img src=\"https://raw.githubusercontent.com/gsprint23/cpts215/master/lessons/figures/while_loop_example.png\" width=\"400\">"
   ]
  },
  {
   "cell_type": "markdown",
   "metadata": {},
   "source": [
    "## The `for` Loop\n",
    "In addition to `while` loops, Python has another type of loop, the `for` loop. `for` loops have the general template\n",
    "\n",
    "```\n",
    "for <item> in <sequence>:\n",
    "    <body>\n",
    "```\n",
    "\n",
    "Where `<sequence>` contains a *finite number of items* to be iterated through. If `<sequence>` is not finite, then we have an infinite loop!\n",
    "\n",
    "![](http://www.tutorialspoint.com/python/images/python_for_loop.jpg)\n",
    "(image taken from [http://www.tutorialspoint.com/python/images/python_for_loop.jpg](http://www.tutorialspoint.com/python/images/python_for_loop.jpg))"
   ]
  },
  {
   "cell_type": "markdown",
   "metadata": {},
   "source": [
    "## `range()`\n",
    "Often we want to run a loop for sequence of values starting at `start`, ending at `stop`, and incrementing by `step`. For example, consider the first 20 even numbers. We want to start generating numbers at 2, end at 40 (and include 40), and increase by 2: 2, 4, 6, 8,..., 38, 40.\n",
    "\n",
    "We can accomplish this by generating this sequence with the [`range()`](https://docs.python.org/3/library/functions.html#func-range) built-in Python function:\n",
    "\n",
    "`range(start, stop, step)`\n",
    "\n",
    "Let's re-write our \"first 20 even number code\" using a `for` loop:"
   ]
  },
  {
   "cell_type": "code",
   "execution_count": 29,
   "metadata": {},
   "outputs": [
    {
     "name": "stdout",
     "output_type": "stream",
     "text": [
      "2\n",
      "4\n",
      "6\n",
      "8\n",
      "10\n",
      "12\n",
      "14\n",
      "16\n",
      "18\n",
      "20\n",
      "22\n",
      "24\n",
      "26\n",
      "28\n",
      "30\n",
      "32\n",
      "34\n",
      "36\n",
      "38\n",
      "40\n",
      "\n",
      "\n",
      "2\n",
      "3\n",
      "4\n",
      "5\n",
      "6\n",
      "7\n",
      "8\n",
      "9\n",
      "10\n",
      "11\n",
      "12\n",
      "13\n",
      "14\n",
      "15\n",
      "16\n",
      "17\n",
      "18\n",
      "19\n",
      "20\n",
      "21\n",
      "22\n",
      "23\n",
      "24\n",
      "25\n",
      "26\n",
      "27\n",
      "28\n",
      "29\n",
      "30\n",
      "31\n",
      "32\n",
      "33\n",
      "34\n",
      "35\n",
      "36\n",
      "37\n",
      "38\n",
      "39\n",
      "40\n",
      "41\n",
      "\n",
      "\n",
      "0\n",
      "1\n"
     ]
    }
   ],
   "source": [
    "for number in range(2, 42, 2):\n",
    "    print(number)\n",
    "    \n",
    "print(\"\\n\")\n",
    "\n",
    "for number in range(2, 42):\n",
    "    print(number)\n",
    "    \n",
    "print(\"\\n\")\n",
    "\n",
    "for number in range(2):\n",
    "    print(number)"
   ]
  },
  {
   "cell_type": "markdown",
   "metadata": {},
   "source": [
    "Note: `stop` specifies the index at which to terminate the loop. This is the Boolean condition, `number < stop`. When `number` equals or exceeds `stop`, the Boolean condition is `False` and the loop ends.\n",
    "\n",
    "Note: If you do not specify a `step`, it is assumed to be 1: `range(0, 10)`\n",
    "\n",
    "Note: If you only pass in one input argument to `range`, i.e. `range(10)`, `start` is assumed to be 0 and `stop` is the input argument value.\n",
    "\n",
    "In summary: `range(0, 10, 1):` is equivalent to `range(0, 10):` is equivalent to `range(10):`\n",
    "\n",
    "Try writing a program to prompt the user to enter a number, then using `for` loop to print as many stars as the number the user entered."
   ]
  },
  {
   "cell_type": "code",
   "execution_count": 30,
   "metadata": {},
   "outputs": [
    {
     "name": "stdout",
     "output_type": "stream",
     "text": [
      "Please enter the number of stars to print:  5\n"
     ]
    },
    {
     "name": "stdout",
     "output_type": "stream",
     "text": [
      "*****"
     ]
    }
   ],
   "source": [
    "num_stars = int(input(\"Please enter the number of stars to print: \"))\n",
    "\n",
    "for i in range(num_stars):\n",
    "    print(\"*\", end=\"\")"
   ]
  },
  {
   "cell_type": "markdown",
   "metadata": {},
   "source": [
    "## `while` or `for` Loops?\n",
    "When to use which loop? Each loop construct lends itself more suitable for certain tasks:\n",
    "\n",
    "`for` loops:\n",
    "* Iterating through sequences\n",
    "    * Using `range()`\n",
    "    * Files\n",
    "    * Strings\n",
    "    * To be learned soon: lists, dictionaries\n",
    "* When we know the number of times we want to run our loop\n",
    "\n",
    "`while` loops:\n",
    "* Prompting the user for input\n",
    "    * Menus\n",
    "* When we don't know the number of times we want to run our loop"
   ]
  },
  {
   "cell_type": "markdown",
   "metadata": {},
   "source": [
    "## `break` Statement\n",
    "Sometimes we need to \"break\" out of a loop early, i.e. before the Boolean condition is `False`. We can accomplish this anywhere in the body of the loop with the `break` statement. \n",
    "\n",
    "As an example, suppose we want to get input from the user until they enter the string \"stop\". When the user enters \"stop\", we want to stop getting numbers from the user and take an early exit of our loop:"
   ]
  },
  {
   "cell_type": "code",
   "execution_count": 31,
   "metadata": {},
   "outputs": [
    {
     "name": "stdout",
     "output_type": "stream",
     "text": [
      "Please enter a string:  hello\n",
      "Please enter a string:  goodbye\n",
      "Please enter a string:  stop\n"
     ]
    }
   ],
   "source": [
    "while True:\n",
    "    line = input(\"Please enter a string: \")\n",
    "    if line == \"stop\":\n",
    "        break"
   ]
  },
  {
   "cell_type": "markdown",
   "metadata": {},
   "source": [
    "## Nested Loops\n",
    "Loops within loops! Just like how we can have `if` statements within `if` statements (nested `if` statements), we do the same with loops. We just need to be conscientious of:\n",
    "* Indenting the bodies of the loops correctly\n",
    "* Progress towards all of the Boolean conditions eventually being false"
   ]
  },
  {
   "cell_type": "code",
   "execution_count": 32,
   "metadata": {},
   "outputs": [
    {
     "name": "stdout",
     "output_type": "stream",
     "text": [
      "0 \n",
      "1 0 \n",
      "2 0 1 \n",
      "3 0 1 2 \n",
      "4 0 1 2 3 \n"
     ]
    }
   ],
   "source": [
    "for i in range(0, 5):\n",
    "    print(\"%d \" %(i), end=\"\")\n",
    "    for j in range(0, i):\n",
    "        print(\"%d\" %(j), end=\" \")\n",
    "    print(\"\")"
   ]
  },
  {
   "cell_type": "markdown",
   "metadata": {},
   "source": [
    "## Random Numbers\n",
    "To generate random numbers, we need to import the `random` module. Then, we will call the function `randrange(start, stop)` to generate a random number in the range `start` to `stop - 1`."
   ]
  },
  {
   "cell_type": "code",
   "execution_count": 33,
   "metadata": {},
   "outputs": [
    {
     "name": "stdout",
     "output_type": "stream",
     "text": [
      "4\n"
     ]
    }
   ],
   "source": [
    "import random\n",
    "\n",
    "# get a random number in the range [0, 9] inclusive\n",
    "rand_num = random.randrange(0, 10)\n",
    "print(rand_num)"
   ]
  },
  {
   "cell_type": "markdown",
   "metadata": {},
   "source": [
    "## Lists\n",
    "In Python, we can have sequences of items other than characters. For example, we can have sequences of:\n",
    "* Numbers\n",
    "    * Integers\n",
    "    * Floats\n",
    "* Objects\n",
    "    * Strings\n",
    "    * Files\n",
    "    * Turtles\n",
    "    * Our own objects we define ourselves (to be learned later, stay tuned!)\n",
    "    \n",
    "A list is a *sequence of items*. In a string, the items are characters. In a list, they can be any type. Items in a list are also called *elements*.\n",
    "\n",
    "We declare a sequence of items as a list with hard brackets: `[<comma separated list items>]`"
   ]
  },
  {
   "cell_type": "code",
   "execution_count": 34,
   "metadata": {},
   "outputs": [
    {
     "name": "stdout",
     "output_type": "stream",
     "text": [
      "[0, 1, 10, 20]\n",
      "[0.2, 0.4, 0.6, 1.0]\n",
      "[0, 0.0, 1, 1.0, -2]\n",
      "['cat', 'dog', 'bird']\n"
     ]
    }
   ],
   "source": [
    "list_ints = [0, 1, 10, 20]\n",
    "print(list_ints)\n",
    "\n",
    "list_floats = [0.2, 0.4, 0.6, 1.0]\n",
    "print(list_floats)\n",
    "\n",
    "# types can be mixed in a list\n",
    "list_numbers = [0, 0.0, 1, 1.0, -2]\n",
    "print(list_numbers)\n",
    "\n",
    "list_strings = [\"cat\", \"dog\", \"bird\"]\n",
    "print(list_strings)"
   ]
  },
  {
   "cell_type": "markdown",
   "metadata": {},
   "source": [
    "Note: the data types in a list need not all be the same.\n",
    "\n",
    "### List Indexing\n",
    "Just like with strings, list indices are 0-based. We can index into a list to access a list item just like how we indexed into a string to get an individual character:"
   ]
  },
  {
   "cell_type": "code",
   "execution_count": 35,
   "metadata": {},
   "outputs": [
    {
     "name": "stdout",
     "output_type": "stream",
     "text": [
      "0\n"
     ]
    }
   ],
   "source": [
    "print(list_ints[0])"
   ]
  },
  {
   "cell_type": "markdown",
   "metadata": {},
   "source": [
    "### List Length\n",
    "We can also use then `len()` function to determine the number of items in a list:"
   ]
  },
  {
   "cell_type": "code",
   "execution_count": 36,
   "metadata": {},
   "outputs": [
    {
     "name": "stdout",
     "output_type": "stream",
     "text": [
      "3\n",
      "bird\n"
     ]
    }
   ],
   "source": [
    "print(len(list_strings))\n",
    "print(list_strings[len(list_strings) - 1])"
   ]
  },
  {
   "cell_type": "markdown",
   "metadata": {},
   "source": [
    "### The Empty List\n",
    "Just like how we can have an empty string (`\"\"`), a string with no characters, we can have an empty list (`[]`). An empty list has no items."
   ]
  },
  {
   "cell_type": "code",
   "execution_count": 37,
   "metadata": {},
   "outputs": [
    {
     "name": "stdout",
     "output_type": "stream",
     "text": [
      "0\n"
     ]
    }
   ],
   "source": [
    "empty_list = []\n",
    "print(len(empty_list))"
   ]
  },
  {
   "cell_type": "markdown",
   "metadata": {},
   "source": [
    "### Nested Lists\n",
    "We can have lists of lists!"
   ]
  },
  {
   "cell_type": "code",
   "execution_count": 38,
   "metadata": {},
   "outputs": [
    {
     "name": "stdout",
     "output_type": "stream",
     "text": [
      "[[0, 1], [2], [3], [4, 5], []]\n"
     ]
    }
   ],
   "source": [
    "nested_list = [[0, 1], [2], [3], [4, 5], []]\n",
    "print(nested_list)"
   ]
  },
  {
   "cell_type": "markdown",
   "metadata": {},
   "source": [
    "Note: the sub-lists can be of unequal lengths.\n",
    "\n",
    "Now, consider the following nested list:\n",
    "\n",
    "`matrix = [[1, 2, 3], [4, 5, 6], [7, 8, 9]]`\n",
    "\n",
    "Logically, `matrix` looks like the following:\n",
    "\n",
    "|Column Index:||||\n",
    "|-|-|-|-|\n",
    "||**0**|**1**|**2**|\n",
    "|**Row Index**||||\n",
    "|**0:**|1|2|3|\n",
    "|**1:**|4|5|6|\n",
    "|**2:**|7|8|9|\n",
    "\n",
    "To access an item in a 2-dimensional nested list, we index into the `<nested list variable>` twice: `<nested list variable>[row_index][column_index]` by row first then column. For example: "
   ]
  },
  {
   "cell_type": "code",
   "execution_count": 39,
   "metadata": {},
   "outputs": [
    {
     "name": "stdout",
     "output_type": "stream",
     "text": [
      "[[1, 2, 3], [4, 5, 6], [7, 8, 9]]\n",
      "1\n",
      "9\n",
      "8\n"
     ]
    }
   ],
   "source": [
    "matrix = [[1, 2, 3], [4, 5, 6], [7, 8, 9]]\n",
    "print(matrix)\n",
    "# the first element in the first list\n",
    "print(matrix[0][0])\n",
    "# the last element in the last list\n",
    "print(matrix[2][2])\n",
    "# the middle element in the last list (8)\n",
    "print(matrix[2][1])"
   ]
  },
  {
   "cell_type": "markdown",
   "metadata": {},
   "source": [
    "### Lists are Mutable\n",
    "Unlike strings, we can change the items in a list:"
   ]
  },
  {
   "cell_type": "code",
   "execution_count": 40,
   "metadata": {},
   "outputs": [
    {
     "name": "stdout",
     "output_type": "stream",
     "text": [
      "['Sloan', 'EME', 'Dana', 'ETRL']\n",
      "['Sloan', 'EME', 'Carpenter', 'ETRL']\n"
     ]
    }
   ],
   "source": [
    "buildings = [\"Sloan\", \"EME\", \"Dana\", \"ETRL\"]\n",
    "print(buildings)\n",
    "\n",
    "# modify the list\n",
    "buildings[2] = \"Carpenter\"\n",
    "print(buildings)"
   ]
  },
  {
   "cell_type": "markdown",
   "metadata": {},
   "source": [
    "Note: We still cannot change a string. Strings are immutable!"
   ]
  },
  {
   "cell_type": "markdown",
   "metadata": {},
   "source": [
    "## Looping Through List Items\n",
    "Just like with strings, we can use the `in` operator or indices to iterate through items in a list:"
   ]
  },
  {
   "cell_type": "code",
   "execution_count": 41,
   "metadata": {},
   "outputs": [
    {
     "name": "stdout",
     "output_type": "stream",
     "text": [
      "twix\n",
      "reeses\n",
      "oreos\n",
      "snickers\n",
      "twix\n",
      "reeses\n",
      "oreos\n",
      "snickers\n",
      "twix\n",
      "reeses\n",
      "oreos\n",
      "snickers\n"
     ]
    }
   ],
   "source": [
    "candies = [\"twix\", \"reeses\", \"oreos\", \"snickers\"]\n",
    "\n",
    "for candy in candies:\n",
    "    print(candy)\n",
    "    \n",
    "i = 0\n",
    "while i < len(candies):\n",
    "    print(candies[i])\n",
    "    i += 1\n",
    "    \n",
    "i = 0\n",
    "for i in range(len(candies)):\n",
    "    print(candies[i])"
   ]
  },
  {
   "cell_type": "markdown",
   "metadata": {},
   "source": [
    "## List Operators\n",
    "### List Concatenation\n",
    "Just like with strings, we can use the concatenation `+` operator to add lists together:"
   ]
  },
  {
   "cell_type": "code",
   "execution_count": 42,
   "metadata": {},
   "outputs": [
    {
     "name": "stdout",
     "output_type": "stream",
     "text": [
      "['twix', 'reeses', 'oreos', 'peach rings']\n",
      "['twix', 'reeses', 'oreos', 'peach rings', 'm&ms', 'starburst']\n"
     ]
    }
   ],
   "source": [
    "candies = [\"twix\", \"reeses\", \"oreos\", \"peach rings\"]\n",
    "\n",
    "print(candies)\n",
    "candies += [\"m&ms\", \"starburst\"]\n",
    "print(candies)"
   ]
  },
  {
   "cell_type": "markdown",
   "metadata": {},
   "source": [
    "### List Repetition\n",
    "Just like with strings, we can repeat items in a list with the repetition `*` operator:"
   ]
  },
  {
   "cell_type": "code",
   "execution_count": 43,
   "metadata": {},
   "outputs": [
    {
     "name": "stdout",
     "output_type": "stream",
     "text": [
      "['twix', 'twix', 'twix', 'twix', 'twix']\n",
      "['twix', 'twix', 'twix', 'twix', 'twix', 'peach rings', 'peach rings', 'peach rings']\n"
     ]
    }
   ],
   "source": [
    "bag_o_candies = 5 * [\"twix\"]\n",
    "print(bag_o_candies)\n",
    "\n",
    "bag_o_candies += 3 * [\"peach rings\"]\n",
    "print(bag_o_candies)"
   ]
  },
  {
   "cell_type": "markdown",
   "metadata": {},
   "source": [
    "### List Slicing\n",
    "Just like with strings, we can use the slice operator `:` with lists:"
   ]
  },
  {
   "cell_type": "code",
   "execution_count": 44,
   "metadata": {},
   "outputs": [
    {
     "name": "stdout",
     "output_type": "stream",
     "text": [
      "['reeses', 'oreos']\n",
      "['twix', 'reeses', 'oreos', 'peach rings', 'm&ms', 'starburst']\n"
     ]
    }
   ],
   "source": [
    "print(candies[1:3])\n",
    "# returns a copy\n",
    "print(candies[:])"
   ]
  },
  {
   "cell_type": "markdown",
   "metadata": {},
   "source": [
    "However, since lists are mutable, we can now change multiple items in a list at a time using slices:"
   ]
  },
  {
   "cell_type": "code",
   "execution_count": 45,
   "metadata": {},
   "outputs": [
    {
     "name": "stdout",
     "output_type": "stream",
     "text": [
      "['twix', 'reeses', 'oreos', 'peach rings']\n",
      "['twix', 'reeses', 'oreos', 'butterfinger', 'heath', 'swedish fish']\n",
      "['carmello', 'airheads', 'oreos', 'butterfinger', 'heath', 'swedish fish']\n"
     ]
    }
   ],
   "source": [
    "candies = [\"twix\", \"reeses\", \"oreos\", \"peach rings\"]\n",
    "print(candies)\n",
    "candies[3:] = [\"butterfinger\", \"heath\", \"swedish fish\"]\n",
    "print(candies)\n",
    "candies[0:2] = [\"carmello\", \"airheads\"]\n",
    "print(candies)"
   ]
  },
  {
   "cell_type": "markdown",
   "metadata": {},
   "source": [
    "## List Methods\n",
    "Just like with strings, lists are objects that have methods we can utilize. \n",
    "\n",
    "### `append()`\n",
    "For example, since lists are mutable, there is an `append(<new item>)` method to add an item to the end of a list:"
   ]
  },
  {
   "cell_type": "code",
   "execution_count": 46,
   "metadata": {},
   "outputs": [
    {
     "name": "stdout",
     "output_type": "stream",
     "text": [
      "['Pullman', 'Spokane']\n",
      "['Pullman', 'Spokane', 'Seattle']\n",
      "['Pullman', 'Spokane', 'Seattle', 'Moscow']\n"
     ]
    }
   ],
   "source": [
    "cities = [\"Pullman\", \"Spokane\"]\n",
    "print(cities)\n",
    "\n",
    "# adds the string as an item\n",
    "cities.append(\"Seattle\")\n",
    "print(cities)\n",
    "\n",
    "# adds the list as an item\n",
    "cities.append(\"Moscow\")\n",
    "print(cities)"
   ]
  },
  {
   "cell_type": "markdown",
   "metadata": {},
   "source": [
    "As review, how could we achieve the same functionality as `append()` without using `append()`?"
   ]
  },
  {
   "cell_type": "code",
   "execution_count": 47,
   "metadata": {},
   "outputs": [
    {
     "name": "stdout",
     "output_type": "stream",
     "text": [
      "['Pullman', 'Spokane']\n",
      "['Pullman', 'Spokane', 'Seattle']\n"
     ]
    }
   ],
   "source": [
    "cities = [\"Pullman\", \"Spokane\"]\n",
    "print(cities)\n",
    "\n",
    "# adds the strings as an item\n",
    "cities += [\"Seattle\"]\n",
    "print(cities)"
   ]
  },
  {
   "cell_type": "markdown",
   "metadata": {},
   "source": [
    "### `extend()`\n",
    "`extend()` is similar to `append()`; however, `extend()` takes a list as an argument and adds each item to the list:"
   ]
  },
  {
   "cell_type": "code",
   "execution_count": 48,
   "metadata": {},
   "outputs": [
    {
     "name": "stdout",
     "output_type": "stream",
     "text": [
      "['Pullman', 'Spokane']\n",
      "['Pullman', 'Spokane', 'Seattle', \"Couer d'Alene\"]\n"
     ]
    }
   ],
   "source": [
    "cities = [\"Pullman\", \"Spokane\"]\n",
    "print(cities)\n",
    "\n",
    "# adds each string in the list as an item\n",
    "cities.extend([\"Seattle\", \"Couer d'Alene\"])\n",
    "print(cities)"
   ]
  },
  {
   "cell_type": "markdown",
   "metadata": {},
   "source": [
    "What would happen if we used `append()` instead of `extend()` in the above code?"
   ]
  },
  {
   "cell_type": "code",
   "execution_count": 49,
   "metadata": {},
   "outputs": [
    {
     "name": "stdout",
     "output_type": "stream",
     "text": [
      "['Pullman', 'Spokane']\n",
      "['Pullman', 'Spokane', ['Seattle', \"Couer d'Alene\"]]\n"
     ]
    }
   ],
   "source": [
    "cities = [\"Pullman\", \"Spokane\"]\n",
    "print(cities)\n",
    "cities.append([\"Seattle\", \"Couer d'Alene\"])\n",
    "print(cities)"
   ]
  },
  {
   "cell_type": "markdown",
   "metadata": {},
   "source": [
    "`cities` becomes a nested list!"
   ]
  },
  {
   "cell_type": "markdown",
   "metadata": {},
   "source": [
    "### `sort()`\n",
    "Many applications require lists of items to be sorted. Use the `sort()` list method to do an in-place sort:"
   ]
  },
  {
   "cell_type": "code",
   "execution_count": 50,
   "metadata": {},
   "outputs": [
    {
     "name": "stdout",
     "output_type": "stream",
     "text": [
      "['Pullman', 'Spokane', 'Seattle', \"Couer d'Alene\"]\n",
      "[\"Couer d'Alene\", 'Pullman', 'Seattle', 'Spokane']\n"
     ]
    }
   ],
   "source": [
    "cities = [\"Pullman\", \"Spokane\", \"Seattle\", \"Couer d'Alene\"]\n",
    "print(cities)\n",
    "\n",
    "# ascending order\n",
    "cities.sort()\n",
    "print(cities)"
   ]
  },
  {
   "cell_type": "markdown",
   "metadata": {},
   "source": [
    "How would you sort a list in descending order? Try using `help(cities.sort)` to find out:"
   ]
  },
  {
   "cell_type": "code",
   "execution_count": 51,
   "metadata": {},
   "outputs": [
    {
     "name": "stdout",
     "output_type": "stream",
     "text": [
      "Help on built-in function sort:\n",
      "\n",
      "sort(*, key=None, reverse=False) method of builtins.list instance\n",
      "    Sort the list in ascending order and return None.\n",
      "    \n",
      "    The sort is in-place (i.e. the list itself is modified) and stable (i.e. the\n",
      "    order of two equal elements is maintained).\n",
      "    \n",
      "    If a key function is given, apply it once to each list item and sort them,\n",
      "    ascending or descending, according to their function values.\n",
      "    \n",
      "    The reverse flag can be set to sort in descending order.\n",
      "\n"
     ]
    }
   ],
   "source": [
    "help(cities.sort)"
   ]
  },
  {
   "cell_type": "code",
   "execution_count": 52,
   "metadata": {},
   "outputs": [
    {
     "name": "stdout",
     "output_type": "stream",
     "text": [
      "[\"Couer d'Alene\", 'Pullman', 'Seattle', 'Spokane']\n",
      "['Spokane', 'Seattle', 'Pullman', \"Couer d'Alene\"]\n"
     ]
    }
   ],
   "source": [
    "print(cities)\n",
    "cities.sort(reverse=True)\n",
    "print(cities)"
   ]
  },
  {
   "cell_type": "markdown",
   "metadata": {},
   "source": [
    "Use the `sorted()` function to get a sorted copy of the list."
   ]
  },
  {
   "cell_type": "code",
   "execution_count": 53,
   "metadata": {},
   "outputs": [
    {
     "name": "stdout",
     "output_type": "stream",
     "text": [
      "['Spokane', 'Seattle', 'Pullman', \"Couer d'Alene\"]\n",
      "[\"Couer d'Alene\", 'Pullman', 'Seattle', 'Spokane']\n"
     ]
    }
   ],
   "source": [
    "print(cities)\n",
    "cities_sorted = sorted(cities)\n",
    "print(cities_sorted)"
   ]
  },
  {
   "cell_type": "markdown",
   "metadata": {},
   "source": [
    "To sort a table (e.g. a list of lists), import the `operator` module and use the `key` argument of `sorted()`. For example:"
   ]
  },
  {
   "cell_type": "code",
   "execution_count": 54,
   "metadata": {},
   "outputs": [
    {
     "name": "stdout",
     "output_type": "stream",
     "text": [
      "[[1, 20], [1, 30], [1, 10], [2, 20], [2, 10], [2, 30]]\n",
      "[[2, 10], [1, 10], [2, 20], [1, 20], [2, 30], [1, 30]]\n",
      "[[1, 10], [1, 20], [1, 30], [2, 10], [2, 20], [2, 30]]\n",
      "[[1, 10], [2, 10], [1, 20], [2, 20], [1, 30], [2, 30]]\n"
     ]
    }
   ],
   "source": [
    "import operator\n",
    "\n",
    "table = [[2, 20], [1, 20], [2, 10], [2, 30], [1, 30], [1, 10]]\n",
    "\n",
    "# sort by first row item\n",
    "print(sorted(table, key=operator.itemgetter(0)))\n",
    "# sort by second row item\n",
    "print(sorted(table, key=operator.itemgetter(1)))\n",
    "\n",
    "# to sort on multiple attributes, can use more arguments:\n",
    "# sort by first row item, then second row item\n",
    "print(sorted(table, key=operator.itemgetter(0,1)))\n",
    "# sort by second row item, then first row item\n",
    "print(sorted(table, key=operator.itemgetter(1,0)))"
   ]
  },
  {
   "cell_type": "markdown",
   "metadata": {},
   "source": [
    "## Deleting Items in a List\n",
    "Since lists are mutable, we can delete items in a list. \n",
    "\n",
    "### Single Item Deletes\n",
    "We have two list methods to delete a *single* item in a list\n",
    "1. When you know the *index* of the item to delete\n",
    "    * `pop(<index>)`\n",
    "1. When you know the *value* of the item to delete\n",
    "    * `remove(<item>)`"
   ]
  },
  {
   "cell_type": "code",
   "execution_count": 55,
   "metadata": {},
   "outputs": [
    {
     "name": "stdout",
     "output_type": "stream",
     "text": [
      "Seattle\n",
      "['Pullman', 'Spokane', \"Couer d'Alene\"]\n",
      "['Pullman', \"Couer d'Alene\"]\n"
     ]
    }
   ],
   "source": [
    "cities = [\"Pullman\", \"Spokane\", \"Seattle\", \"Couer d'Alene\"]\n",
    "\n",
    "# pop returns the item removed\n",
    "city = cities.pop(2)\n",
    "print(city)\n",
    "print(cities)\n",
    "\n",
    "# remove does not return the item removed\n",
    "cities.remove(\"Spokane\")\n",
    "print(cities)"
   ]
  },
  {
   "cell_type": "markdown",
   "metadata": {},
   "source": [
    "### `del` Keyword and Multiple Item Deletes\n",
    "Alternatively, we can delete an object using the `del` reserved keyword:"
   ]
  },
  {
   "cell_type": "code",
   "execution_count": 56,
   "metadata": {},
   "outputs": [
    {
     "name": "stdout",
     "output_type": "stream",
     "text": [
      "['Pullman', 'Spokane', 'Seattle', \"Couer d'Alene\"]\n",
      "['Pullman', 'Seattle', \"Couer d'Alene\"]\n"
     ]
    }
   ],
   "source": [
    "cities = [\"Pullman\", \"Spokane\", \"Seattle\", \"Couer d'Alene\"]\n",
    "print(cities)\n",
    "\n",
    "# del is not a function\n",
    "del cities[1]\n",
    "print(cities)"
   ]
  },
  {
   "cell_type": "markdown",
   "metadata": {},
   "source": [
    "We may want to delete multiple items at a time. We can do this with a slice and `del`:"
   ]
  },
  {
   "cell_type": "code",
   "execution_count": 57,
   "metadata": {},
   "outputs": [
    {
     "name": "stdout",
     "output_type": "stream",
     "text": [
      "['Pullman', 'Spokane', 'Seattle', \"Couer d'Alene\"]\n",
      "[\"Couer d'Alene\"]\n"
     ]
    }
   ],
   "source": [
    "cities = [\"Pullman\", \"Spokane\", \"Seattle\", \"Couer d'Alene\"]\n",
    "print(cities)\n",
    "\n",
    "del cities[0:3]\n",
    "print(cities)"
   ]
  },
  {
   "cell_type": "markdown",
   "metadata": {},
   "source": [
    "### Relationship Between Strings and Lists\n",
    "A list of single character strings is not a string:"
   ]
  },
  {
   "cell_type": "code",
   "execution_count": 58,
   "metadata": {},
   "outputs": [
    {
     "name": "stdout",
     "output_type": "stream",
     "text": [
      "['c', 'p', 't', 's', '1', '1', '1']\n"
     ]
    }
   ],
   "source": [
    "my_list = [\"c\", \"p\", \"t\", \"s\", \"1\", \"1\", \"1\"]\n",
    "print(\"%s\" %(my_list))"
   ]
  },
  {
   "cell_type": "markdown",
   "metadata": {},
   "source": [
    "### `join()` (string method)\n",
    "However, we can turn a list of strings into a string with the `join()` string method. We need to specify a \"delimiter\" string to use to concatenate the individual strings in a list into a single string:"
   ]
  },
  {
   "cell_type": "code",
   "execution_count": 59,
   "metadata": {},
   "outputs": [
    {
     "name": "stdout",
     "output_type": "stream",
     "text": [
      "cpts215\n",
      "c:)p:)t:)s:)2:)1:)5\n"
     ]
    }
   ],
   "source": [
    "my_list = [\"c\", \"p\", \"t\", \"s\", \"2\", \"1\", \"5\"]\n",
    "delimiter = '' # empty string\n",
    "my_string = delimiter.join(my_list)\n",
    "print(\"%s\" %(my_string))\n",
    "\n",
    "delimiter = ':)'\n",
    "my_string = delimiter.join(my_list)\n",
    "print(\"%s\" %(my_string))"
   ]
  },
  {
   "cell_type": "markdown",
   "metadata": {},
   "source": [
    "### `list()` (function)\n",
    "To convert the string back into a list, we can type cast the string into a list with `list()`:"
   ]
  },
  {
   "cell_type": "code",
   "execution_count": 60,
   "metadata": {},
   "outputs": [
    {
     "name": "stdout",
     "output_type": "stream",
     "text": [
      "['c', 'p', 't', 's', '2', '1', '5']\n"
     ]
    }
   ],
   "source": [
    "my_string = \"cpts215\"\n",
    "my_list = list(my_string)\n",
    "print(my_list)"
   ]
  },
  {
   "cell_type": "markdown",
   "metadata": {},
   "source": [
    "### `split()` (string method)\n",
    "`split(<string delimiter>)` breaks a string into pieces at each `<string delimiter>`. The pieces are returned as a list: "
   ]
  },
  {
   "cell_type": "code",
   "execution_count": 61,
   "metadata": {},
   "outputs": [
    {
     "name": "stdout",
     "output_type": "stream",
     "text": [
      "['hello', 'how', 'are', 'you']\n"
     ]
    }
   ],
   "source": [
    "sentence = \"hello how are you\"\n",
    "pieces = sentence.split(\" \")\n",
    "print(pieces)"
   ]
  },
  {
   "cell_type": "markdown",
   "metadata": {},
   "source": [
    "## Aliasing\n",
    "When we declare a list variable, as in `list1 = [0, 1, 2, 3]`, a list *object* is created. We say the variable `list1` is a *reference* to the list object `[0, 1, 2, 3]`. In memory, this looks like the following:\n",
    "![](https://raw.githubusercontent.com/GonzagaCPSC222/U2-Python-Basics/master/figures/reference_example.png)\n",
    "\n",
    "If we declare another list variable, `list2 = [0, 1, 2, 3]`, `list2` refers to a *different* list object, even though both objects that `list1` and `list2` refer to contain the same items:\n",
    "![](https://raw.githubusercontent.com/GonzagaCPSC222/U2-Python-Basics/master/figures/references_multiple_example.png)\n",
    "\n",
    "We can test if `list1` and `list2` refer to lists that contain the same elements:"
   ]
  },
  {
   "cell_type": "code",
   "execution_count": 62,
   "metadata": {},
   "outputs": [
    {
     "name": "stdout",
     "output_type": "stream",
     "text": [
      "True\n"
     ]
    }
   ],
   "source": [
    "list1 = [0, 1, 2, 3]\n",
    "list2 = [0, 1, 2, 3]\n",
    "print(list1 == list2)"
   ]
  },
  {
   "cell_type": "markdown",
   "metadata": {},
   "source": [
    "To test if `list1` and `list2` *refer* to the same list object, we can use the Python reserved keyword, `is`. `is` tests whether two variables refer to the same object: "
   ]
  },
  {
   "cell_type": "code",
   "execution_count": 63,
   "metadata": {},
   "outputs": [
    {
     "name": "stdout",
     "output_type": "stream",
     "text": [
      "False\n"
     ]
    }
   ],
   "source": [
    "list1 = [0, 1, 2, 3]\n",
    "list2 = [0, 1, 2, 3]\n",
    "print(list1 is list2)"
   ]
  },
  {
   "cell_type": "markdown",
   "metadata": {},
   "source": [
    "Note: Python is intelligent! Since strings are immutable, only one object is created in the following code:"
   ]
  },
  {
   "cell_type": "code",
   "execution_count": 64,
   "metadata": {},
   "outputs": [
    {
     "name": "stdout",
     "output_type": "stream",
     "text": [
      "True\n",
      "True\n"
     ]
    }
   ],
   "source": [
    "string1 = \"hello\"\n",
    "string2 = \"hello\"\n",
    "print(string1 == string2)\n",
    "print(string1 is string2)"
   ]
  },
  {
   "cell_type": "markdown",
   "metadata": {},
   "source": [
    "In the above code, both `string1` and `string2` refer to the same string object. This phenomenon is called *aliasing*. \n",
    "\n",
    "Let's return to our list example and see aliasing at work. \n",
    "\n",
    "If instead of assigning `list2` to a new list object, we assign `list2` to `list1`: `list2 = list1`, `list2` refers to the same object as `list1`.\n",
    "![](https://raw.githubusercontent.com/GonzagaCPSC222/U2-Python-Basics/master/figures/alias_example.png)\n",
    "\n",
    "We now say the object is *aliased*, because it has more than one reference, or alias.\n",
    "\n",
    "If the aliased object is mutable, either reference can modify the object:"
   ]
  },
  {
   "cell_type": "code",
   "execution_count": 65,
   "metadata": {},
   "outputs": [
    {
     "name": "stdout",
     "output_type": "stream",
     "text": [
      "[0, 1, 2, 3]\n",
      "[0, 1, 2, 3]\n",
      "[0, 1, 100, 3]\n",
      "[0, 1, 100, 3]\n",
      "\n",
      "\n",
      "[0, 1, 2, 3]\n",
      "[0, 1, 2, 3]\n",
      "[0, 1, 2, 3]\n",
      "[0, 1, 100, 3]\n"
     ]
    }
   ],
   "source": [
    "# same object aliased by list1 and list2\n",
    "list1 = [0, 1, 2, 3]\n",
    "list2 = list1\n",
    "print(list1)\n",
    "print(list2)\n",
    "list2[2] = 100\n",
    "print(list1)\n",
    "print(list2)\n",
    "print(\"\\n\")\n",
    "\n",
    "# compared to creating two separate objects list1 and list2\n",
    "list1 = [0, 1, 2, 3]\n",
    "list2 = [0, 1, 2, 3]\n",
    "print(list1)\n",
    "print(list2)\n",
    "list2[2] = 100\n",
    "print(list1)\n",
    "print(list2)"
   ]
  },
  {
   "cell_type": "markdown",
   "metadata": {},
   "source": [
    "Aliasing is important to keep in mind, especially when passing lists as arguments."
   ]
  },
  {
   "cell_type": "markdown",
   "metadata": {},
   "source": [
    "## Lists Arguments\n",
    "We can pass lists into functions as arguments:"
   ]
  },
  {
   "cell_type": "code",
   "execution_count": 66,
   "metadata": {},
   "outputs": [
    {
     "name": "stdout",
     "output_type": "stream",
     "text": [
      "0.0 0.2 0.4 "
     ]
    }
   ],
   "source": [
    "def pretty_print_list(list_to_print):\n",
    "    for value in list_to_print:\n",
    "        print(value, end=\" \")\n",
    "\n",
    "numbers = [0.0, 0.2, 0.4]\n",
    "pretty_print_list(numbers)"
   ]
  },
  {
   "cell_type": "markdown",
   "metadata": {},
   "source": [
    "When a list is passed as an argument to a function, the function parameter variable is a *reference* to the list, making the list *aliased*. This means that if we modify a list in our function, the change to the object persists and the calling code will see the change.\n",
    "\n",
    "In the example above, `numbers` and `list_to_print` are aliases to the list object `[0.0, 0.2, 0.4]`. If `pretty_print_list()` can use `list_to_print` to modify the object. \n",
    "\n",
    "Let's write a new function, `add_one()`, that adds one to each value in a list:"
   ]
  },
  {
   "cell_type": "code",
   "execution_count": 67,
   "metadata": {},
   "outputs": [
    {
     "name": "stdout",
     "output_type": "stream",
     "text": [
      "[0.0, 0.2, 0.4]\n",
      "[1.0, 1.2, 1.4]\n"
     ]
    }
   ],
   "source": [
    "def add_one(list_arg):\n",
    "    for i in range(len(list_arg)):\n",
    "        list_arg[i] += 1\n",
    "\n",
    "numbers = [0.0, 0.2, 0.4]\n",
    "print(numbers)\n",
    "add_one(numbers)\n",
    "print(numbers)"
   ]
  },
  {
   "cell_type": "markdown",
   "metadata": {},
   "source": [
    "## Returning Lists\n",
    "We can write functions that return lists. Consider a function that returns a list of numbers from arguments `start_index` to `end_index + 1`:"
   ]
  },
  {
   "cell_type": "code",
   "execution_count": 68,
   "metadata": {},
   "outputs": [
    {
     "name": "stdout",
     "output_type": "stream",
     "text": [
      "[0, 1, 2, 3, 4, 5, 6, 7, 8, 9]\n"
     ]
    }
   ],
   "source": [
    "def create_sequence(start_index, end_index):\n",
    "    sequence = []\n",
    "    \n",
    "    for i in range(start_index, end_index):\n",
    "        sequence.append(i)\n",
    "    return sequence\n",
    "\n",
    "first_ten_nums = create_sequence(0, 10)\n",
    "print(first_ten_nums)"
   ]
  },
  {
   "cell_type": "markdown",
   "metadata": {},
   "source": [
    "## Command Line Arguments\n",
    "We can pass arguments into our Python programs. The arguments will be stored in a list, referenced by `sys.argv`. Note: we will have to `import sys` to get access to `sys.argv`.\n",
    "\n",
    "The first argument is always the name of the script, and is counted in the total number of command line arguments:"
   ]
  },
  {
   "cell_type": "code",
   "execution_count": 69,
   "metadata": {},
   "outputs": [
    {
     "name": "stdout",
     "output_type": "stream",
     "text": [
      "['/Users/sprint/opt/anaconda3/lib/python3.9/site-packages/ipykernel_launcher.py', '-f', '/Users/sprint/Library/Jupyter/runtime/kernel-2f9cf6a9-1bd1-409e-8650-1fa7ff38e865.json']\n",
      "3\n"
     ]
    }
   ],
   "source": [
    "import sys\n",
    "\n",
    "print(sys.argv)\n",
    "print(len(sys.argv))"
   ]
  },
  {
   "cell_type": "markdown",
   "metadata": {},
   "source": [
    "## Tuples\n",
    "Tuples are immutable lists. They are declared as a comma separated list, with or without parentheses:"
   ]
  },
  {
   "cell_type": "code",
   "execution_count": 70,
   "metadata": {},
   "outputs": [
    {
     "name": "stdout",
     "output_type": "stream",
     "text": [
      "('x', 'y', 'z')\n",
      "<class 'tuple'>\n",
      "(1,)\n",
      "a\n",
      "<class 'str'>\n",
      "()\n",
      "<class 'tuple'>\n"
     ]
    }
   ],
   "source": [
    "my_tuple = \"x\", \"y\", \"z\"\n",
    "print(my_tuple)\n",
    "print(type(my_tuple))\n",
    "\n",
    "# need a comma after a single element initialization\n",
    "my_tuple2 = (1, )\n",
    "print(my_tuple2)\n",
    "\n",
    "# need a comma after a single element initialization\n",
    "not_a_tuple = (\"a\")\n",
    "print(not_a_tuple)\n",
    "print(type(not_a_tuple))\n",
    "\n",
    "# creating an empty tuple\n",
    "empty_tuple = tuple()\n",
    "print(empty_tuple)\n",
    "print(type(empty_tuple))"
   ]
  },
  {
   "cell_type": "markdown",
   "metadata": {},
   "source": [
    "Tuple indexing and slicing works the same as for lists:"
   ]
  },
  {
   "cell_type": "code",
   "execution_count": 71,
   "metadata": {},
   "outputs": [
    {
     "name": "stdout",
     "output_type": "stream",
     "text": [
      "y\n",
      "('x', 'y')\n"
     ]
    }
   ],
   "source": [
    "my_tuple = (\"x\", \"y\", \"z\")\n",
    "print(my_tuple[1])\n",
    "print(my_tuple[0:2])"
   ]
  },
  {
   "cell_type": "markdown",
   "metadata": {},
   "source": [
    "HOWEVER, tuples are immutable, so you cannot modify them. The follow code demonstrates the immutability of tuples:"
   ]
  },
  {
   "cell_type": "code",
   "execution_count": 72,
   "metadata": {},
   "outputs": [
    {
     "ename": "TypeError",
     "evalue": "'tuple' object does not support item assignment",
     "output_type": "error",
     "traceback": [
      "\u001b[0;31m---------------------------------------------------------------------------\u001b[0m",
      "\u001b[0;31mTypeError\u001b[0m                                 Traceback (most recent call last)",
      "\u001b[0;32m/var/folders/xq/gg44p4b95tl51sf74rbthlj40000gn/T/ipykernel_59891/2201944192.py\u001b[0m in \u001b[0;36m<module>\u001b[0;34m\u001b[0m\n\u001b[1;32m      1\u001b[0m \u001b[0mmy_tuple\u001b[0m \u001b[0;34m=\u001b[0m \u001b[0;34m(\u001b[0m\u001b[0;34m\"x\"\u001b[0m\u001b[0;34m,\u001b[0m \u001b[0;34m\"y\"\u001b[0m\u001b[0;34m,\u001b[0m \u001b[0;34m\"z\"\u001b[0m\u001b[0;34m)\u001b[0m\u001b[0;34m\u001b[0m\u001b[0;34m\u001b[0m\u001b[0m\n\u001b[1;32m      2\u001b[0m \u001b[0;31m# crashes! tuples are immutable, you cannot change them\u001b[0m\u001b[0;34m\u001b[0m\u001b[0;34m\u001b[0m\u001b[0m\n\u001b[0;32m----> 3\u001b[0;31m \u001b[0mmy_tuple\u001b[0m\u001b[0;34m[\u001b[0m\u001b[0;36m2\u001b[0m\u001b[0;34m]\u001b[0m \u001b[0;34m=\u001b[0m \u001b[0;34m\"a\"\u001b[0m\u001b[0;34m\u001b[0m\u001b[0;34m\u001b[0m\u001b[0m\n\u001b[0m",
      "\u001b[0;31mTypeError\u001b[0m: 'tuple' object does not support item assignment"
     ]
    }
   ],
   "source": [
    "my_tuple = (\"x\", \"y\", \"z\")\n",
    "# crashes! tuples are immutable, you cannot change them\n",
    "my_tuple[2] = \"a\""
   ]
  },
  {
   "cell_type": "markdown",
   "metadata": {},
   "source": [
    "## Key-Value Pairs\n",
    "Consider the following set of items:\n",
    "* Your student ID number\n",
    "* Your checking account number\n",
    "* The VIN number on your car\n",
    "* Your social security number\n",
    "\n",
    "What do all of the above items have in common? They are all *unique* identifiers for something. For example, there may be several students named \"John Smith\" at WSU. How is the university to distinguish academic records for multiple John Smiths? They assign a unique *key* to identify each individual student:\n",
    "\n",
    "|ID Number|Last name|First name|\n",
    "|-|-|-|\n",
    "|28905|Smith|Jane|\n",
    "|19485|Smith|John|\n",
    "|28450|Smith|John|\n",
    "|25543|Smith|John|\n",
    "|17834|Smith|Justin|\n",
    "\n",
    "For the other examples, your checking account number is a key that uniquely identifies your account, the VIN is a key that uniquely identifies your car, and your SSN is a key that uniquely identifies you for government purposes.\n",
    "\n",
    "Keys are useful because they *map* keys to values. In the example above, a student ID number of 28905 maps to the academic records of Jane Smith at WSU. The academic record of Jane Smith is called the *value* that the *key* (ID number) maps to. Together, the ID number (28905) and the record (Jane Smith's academic record) form a *key-value pair*. \n",
    "\n",
    "Keys can be represented as a list of unique values (no duplicates). Values can be represented as a list as well (can have duplicates). A single data structure that combines key lists and value lists is called a *dictionary*.\n",
    "\n",
    "## Dictionaries\n",
    "A *dictionary is a list with keys as indices*. Keys can be integers, strings, file objects, etc. Keys cannot be lists. To declare a dictionary, we use the curly braces `{ }`:"
   ]
  },
  {
   "cell_type": "code",
   "execution_count": null,
   "metadata": {},
   "outputs": [],
   "source": [
    "# declares an empty dictionary\n",
    "my_dict = {}\n",
    "print(my_dict)\n",
    "# can also use dict()\n",
    "my_second_dict = dict()\n",
    "print(my_second_dict)"
   ]
  },
  {
   "cell_type": "markdown",
   "metadata": {},
   "source": [
    "We can initialize a dictionary with values using comma separated `key:value` pairs:"
   ]
  },
  {
   "cell_type": "code",
   "execution_count": null,
   "metadata": {},
   "outputs": [],
   "source": [
    "state_capitals = {'washington': 'olympia', 'idaho': 'boise', 'oregon': 'portland'}\n",
    "print(state_capitals)"
   ]
  },
  {
   "cell_type": "markdown",
   "metadata": {},
   "source": [
    "We can create a dictionary from a list of tuples, where each tuple in the list is a key-value pair:"
   ]
  },
  {
   "cell_type": "code",
   "execution_count": null,
   "metadata": {},
   "outputs": [],
   "source": [
    "# roman numerals\n",
    "key_values = [(\"I\", 1), (\"V\", 5), (\"X\", 10), (\"L\", 50)]\n",
    "roman_numerals = dict(key_values)\n",
    "print(roman_numerals)"
   ]
  },
  {
   "cell_type": "markdown",
   "metadata": {},
   "source": [
    "We can also convert a dictionary back to a list of tuples with the dictionary method `items()` and the built-in function `list()`:"
   ]
  },
  {
   "cell_type": "code",
   "execution_count": null,
   "metadata": {},
   "outputs": [],
   "source": [
    "list_of_tuples = list(roman_numerals.items())\n",
    "print(list_of_tuples)"
   ]
  },
  {
   "cell_type": "markdown",
   "metadata": {},
   "source": [
    "### Compatible Dictionary Data Types\n",
    "#### Keys\n",
    "Dictionary keys can be integers, strings, files, tuples, etc.. Lists cannot be keys.\n",
    "\n",
    "#### Values\n",
    "Values can be any type. For example, we can have string keys and list values:"
   ]
  },
  {
   "cell_type": "code",
   "execution_count": null,
   "metadata": {},
   "outputs": [],
   "source": [
    "fruit_colors = {'kiwi': ['brown', 'green'], 'banana': ['yellow'], 'watermelon': ['green', 'red']}\n",
    "print(fruit_colors)"
   ]
  },
  {
   "cell_type": "markdown",
   "metadata": {},
   "source": [
    "### Dictionary Indexing\n",
    "We can access an item via a key using hard brackets `[ ]` (similar to indexing into a list):"
   ]
  },
  {
   "cell_type": "code",
   "execution_count": null,
   "metadata": {},
   "outputs": [],
   "source": [
    "state_capitals = {'washington': 'olympia', 'idaho': 'boise', 'oregon': 'portland'}\n",
    "print(\"The capital of idaho is %s\" %(state_capitals['idaho']))"
   ]
  },
  {
   "cell_type": "markdown",
   "metadata": {},
   "source": [
    "### Adding Key-Value Pairs\n",
    "Since dictionaries are *mutable*, we can add key-value pairs to the dictionary using hard brackets `[ ]`:"
   ]
  },
  {
   "cell_type": "code",
   "execution_count": null,
   "metadata": {},
   "outputs": [],
   "source": [
    "state_capitals = {'washington': 'olympia', 'idaho': 'boise', 'oregon': 'portland'}\n",
    "print(state_capitals)\n",
    "\n",
    "state_capitals['montana'] = 'helena'\n",
    "print(state_capitals)"
   ]
  },
  {
   "cell_type": "markdown",
   "metadata": {},
   "source": [
    "Note: keys in a dictionary are not sorted in any particular order.\n",
    "\n",
    "### Dictionary Length with `len()`\n",
    "We can still determine the number of items (key-value pairs) in a dictionary with `len()`:"
   ]
  },
  {
   "cell_type": "code",
   "execution_count": null,
   "metadata": {},
   "outputs": [],
   "source": [
    "state_capitals = {'washington': 'olympia', 'idaho': 'boise', 'oregon': 'portland'}\n",
    "print(len(state_capitals))"
   ]
  },
  {
   "cell_type": "markdown",
   "metadata": {},
   "source": [
    "### Existence of a Key\n",
    "We can also test if a key is a valid key in the dictionary with the `in` keyword:"
   ]
  },
  {
   "cell_type": "code",
   "execution_count": null,
   "metadata": {},
   "outputs": [],
   "source": [
    "state_capitals = {'washington': 'olympia', 'idaho': 'boise', 'oregon': 'portland'}\n",
    "\n",
    "print('california' in state_capitals)\n",
    "print('idaho' in state_capitals)\n",
    "print('olympia' in state_capitals)"
   ]
  },
  {
   "cell_type": "markdown",
   "metadata": {},
   "source": [
    "## Looping through a Dictionary\n",
    "We can traverse a dictionary easily with a `for` loop that walks through each key in the dictionary:"
   ]
  },
  {
   "cell_type": "code",
   "execution_count": null,
   "metadata": {},
   "outputs": [],
   "source": [
    "sides = {'square': 4, 'triangle': 3, 'pentagon': 5, 'rectangle': 4}\n",
    "\n",
    "for side in sides:\n",
    "    print(side, sides[side], sep= \": \")"
   ]
  },
  {
   "cell_type": "markdown",
   "metadata": {},
   "source": [
    "## Example Problem: Letter Frequencies\n",
    "Suppose we want to keep track of the frequency of letters in a word. For example, the word \"hello\" has 4 letters with the following frequencies:\n",
    "* h: 1\n",
    "* e: 1\n",
    "* l: 2\n",
    "* o: 1\n",
    "\n",
    "Let's write a program to prompt the user to enter a word. Our program will tell the user the frequency of each letter in the word. We could solve this problem with either a list or a dictionary:\n",
    "* List solution\n",
    "    1. Create a list with 26 zeros\n",
    "    1. Write a function to convert a letter into an integer in the range [0-25] to index into the list. We can do this with the `ord(<character>)` function and ASCII codes...\n",
    "    1. Walk through the word and increment the corresponding list position for each letter\n",
    "    1. Convert the index of non-zero list entries back to characters using `char(<integer>)` to print out the histogram results\n",
    "* Dictionary solution\n",
    "    1. Create an empty dictionary\n",
    "    1. Walk through the word and add the letter to the dictionary with a count of zero if the letter is not already a key, increment otherwise.\n",
    "    \n",
    "The dictionary solution lends itself more suitable to this problem because we do not have to allocate space for all letters ahead of time and we don't have to perform a character to integer conversion to index into the data structure."
   ]
  },
  {
   "cell_type": "code",
   "execution_count": null,
   "metadata": {},
   "outputs": [],
   "source": [
    "def compute_letter_frequencies(word):\n",
    "    '''\n",
    "    \n",
    "    '''\n",
    "    histogram = {}\n",
    "    \n",
    "    for letter in word:\n",
    "        if letter in histogram:\n",
    "            histogram[letter] += 1\n",
    "        else:\n",
    "            histogram[letter] = 1\n",
    "    return histogram\n",
    "\n",
    "print(compute_letter_frequencies(\"hello\"))\n",
    "print(compute_letter_frequencies(\"mississippi\"))"
   ]
  },
  {
   "cell_type": "markdown",
   "metadata": {},
   "source": [
    "Compared to the list solution:"
   ]
  },
  {
   "cell_type": "code",
   "execution_count": null,
   "metadata": {},
   "outputs": [],
   "source": [
    "def letter_to_index(letter):\n",
    "    '''\n",
    "    \n",
    "    '''\n",
    "    ascii_val = ord(letter)\n",
    "    index = ascii_val - ord('a')\n",
    "    return index\n",
    "\n",
    "def index_to_letter(index):\n",
    "    '''\n",
    "    \n",
    "    '''\n",
    "    ascii_val = index + ord('a')\n",
    "    letter = chr(ascii_val)\n",
    "    return letter\n",
    "    \n",
    "def compute_letter_frequencies_list(word):\n",
    "    '''\n",
    "    \n",
    "    '''\n",
    "    histogram = [0] * 26\n",
    "    \n",
    "    word.lower()\n",
    "    for letter in word:\n",
    "        index = letter_to_index(letter)\n",
    "        histogram[index] += 1\n",
    "    return histogram\n",
    "\n",
    "def pretty_print(histogram):\n",
    "    '''\n",
    "    \n",
    "    '''\n",
    "    for i in range(len(histogram)):\n",
    "        if histogram[i] != 0:\n",
    "            letter = index_to_letter(i)\n",
    "            print(\"%s: %d\" %(letter, histogram[i]), end=\" \")\n",
    "    print(\"\")\n",
    "\n",
    "histogram = compute_letter_frequencies_list(\"hello\")\n",
    "pretty_print(histogram)"
   ]
  },
  {
   "cell_type": "markdown",
   "metadata": {},
   "source": [
    "Note: We have now seen lists of tuples, lists of lists, dictionaries of lists, etc. In general, we can have sequences of sequences. The types of sequences that can be nested and the number of nesting levels is up to you, the programmer!"
   ]
  }
 ],
 "metadata": {
  "anaconda-cloud": {},
  "kernelspec": {
   "display_name": "Python 3 (ipykernel)",
   "language": "python",
   "name": "python3"
  },
  "language_info": {
   "codemirror_mode": {
    "name": "ipython",
    "version": 3
   },
   "file_extension": ".py",
   "mimetype": "text/x-python",
   "name": "python",
   "nbconvert_exporter": "python",
   "pygments_lexer": "ipython3",
   "version": "3.9.7"
  }
 },
 "nbformat": 4,
 "nbformat_minor": 4
}
